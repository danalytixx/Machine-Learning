{
  "nbformat": 4,
  "nbformat_minor": 0,
  "metadata": {
    "colab": {
      "name": "Handson Sensor Data with clustering KMeans 290321.ipynb",
      "provenance": [],
      "collapsed_sections": []
    },
    "kernelspec": {
      "name": "python3",
      "display_name": "Python 3"
    },
    "language_info": {
      "name": "python"
    }
  },
  "cells": [
    {
      "cell_type": "markdown",
      "metadata": {
        "id": "5sbwlfqW2eDx"
      },
      "source": [
        "# Clustering with Kmeans"
      ]
    },
    {
      "cell_type": "markdown",
      "metadata": {
        "id": "Vo54eZye2xMC"
      },
      "source": [
        "## load the data"
      ]
    },
    {
      "cell_type": "code",
      "metadata": {
        "colab": {
          "base_uri": "https://localhost:8080/",
          "height": 204
        },
        "id": "j55f_fWswr1S",
        "outputId": "3acb9010-ef9c-45ab-f5bb-0f03f551c546"
      },
      "source": [
        "import pandas as pd\n",
        "from sklearn import neighbors, datasets\n",
        "from sklearn.model_selection import train_test_split\n",
        "%matplotlib inline\n",
        "import matplotlib.pyplot as plt\n",
        "import seaborn as sns; sns.set()\n",
        "import numpy as np\n",
        "\n",
        "sensor = pd.read_csv('https://raw.githubusercontent.com/shadgriffin/machine_failure/master/equipment_failure_data_1.csv')\n",
        "sensor.head()\n",
        "\n",
        "\n",
        "#,\"DoleLR\"\t,\"PID\",\t\"outpressure\",\t\"inpressure\",\t\"temp\"]]\n",
        "\n",
        "ys_failure=sensor['EQUIPMENT_FAILURE']==1\n",
        "ys_no_failure=sensor['EQUIPMENT_FAILURE']==0\n",
        "sensor_failure=sensor[ys_failure].truncate(after=5000)\n",
        "sensor_no_failure=sensor[ys_no_failure].truncate(after=50)\n",
        "\n",
        "#sensor_no_failure.head(30)\n",
        "\n",
        "sensor_failure_all= sensor_failure.append(sensor_no_failure)\n",
        "sensor_failure_all.head(20)\n",
        "sensor_failure_all\n",
        "\n",
        "Xs=sensor_failure_all[[\"S17\",\t\"S16\"\t]]\t\n",
        "ys=sensor_failure_all['EQUIPMENT_FAILURE']\n",
        "sensor_failure_all.head()"
      ],
      "execution_count": 22,
      "outputs": [
        {
          "output_type": "execute_result",
          "data": {
            "text/html": [
              "<div>\n",
              "<style scoped>\n",
              "    .dataframe tbody tr th:only-of-type {\n",
              "        vertical-align: middle;\n",
              "    }\n",
              "\n",
              "    .dataframe tbody tr th {\n",
              "        vertical-align: top;\n",
              "    }\n",
              "\n",
              "    .dataframe thead th {\n",
              "        text-align: right;\n",
              "    }\n",
              "</style>\n",
              "<table border=\"1\" class=\"dataframe\">\n",
              "  <thead>\n",
              "    <tr style=\"text-align: right;\">\n",
              "      <th></th>\n",
              "      <th>ID</th>\n",
              "      <th>DATE</th>\n",
              "      <th>REGION_CLUSTER</th>\n",
              "      <th>MAINTENANCE_VENDOR</th>\n",
              "      <th>MANUFACTURER</th>\n",
              "      <th>WELL_GROUP</th>\n",
              "      <th>S15</th>\n",
              "      <th>S17</th>\n",
              "      <th>S13</th>\n",
              "      <th>S5</th>\n",
              "      <th>S16</th>\n",
              "      <th>S19</th>\n",
              "      <th>S18</th>\n",
              "      <th>EQUIPMENT_FAILURE</th>\n",
              "      <th>S8</th>\n",
              "      <th>AGE_OF_EQUIPMENT</th>\n",
              "    </tr>\n",
              "  </thead>\n",
              "  <tbody>\n",
              "    <tr>\n",
              "      <th>143</th>\n",
              "      <td>100001</td>\n",
              "      <td>4/24/15</td>\n",
              "      <td>G</td>\n",
              "      <td>O</td>\n",
              "      <td>Y</td>\n",
              "      <td>1</td>\n",
              "      <td>0.0</td>\n",
              "      <td>0.0</td>\n",
              "      <td>0.000000</td>\n",
              "      <td>0.000000</td>\n",
              "      <td>8.8924</td>\n",
              "      <td>0.9</td>\n",
              "      <td>170.4</td>\n",
              "      <td>1</td>\n",
              "      <td>0.000000</td>\n",
              "      <td>1023</td>\n",
              "    </tr>\n",
              "    <tr>\n",
              "      <th>1452</th>\n",
              "      <td>100003</td>\n",
              "      <td>11/22/16</td>\n",
              "      <td>C</td>\n",
              "      <td>L</td>\n",
              "      <td>T</td>\n",
              "      <td>1</td>\n",
              "      <td>0.0</td>\n",
              "      <td>0.0</td>\n",
              "      <td>0.000000</td>\n",
              "      <td>0.000000</td>\n",
              "      <td>8.7048</td>\n",
              "      <td>0.0</td>\n",
              "      <td>4.4</td>\n",
              "      <td>1</td>\n",
              "      <td>0.000000</td>\n",
              "      <td>1121</td>\n",
              "    </tr>\n",
              "    <tr>\n",
              "      <th>1974</th>\n",
              "      <td>100009</td>\n",
              "      <td>4/27/16</td>\n",
              "      <td>H</td>\n",
              "      <td>M</td>\n",
              "      <td>X</td>\n",
              "      <td>3</td>\n",
              "      <td>0.0</td>\n",
              "      <td>0.0</td>\n",
              "      <td>23.614483</td>\n",
              "      <td>7202.413793</td>\n",
              "      <td>3.2824</td>\n",
              "      <td>42.7</td>\n",
              "      <td>57.1</td>\n",
              "      <td>1</td>\n",
              "      <td>89.084138</td>\n",
              "      <td>832</td>\n",
              "    </tr>\n",
              "    <tr>\n",
              "      <th>2882</th>\n",
              "      <td>100014</td>\n",
              "      <td>10/21/16</td>\n",
              "      <td>H</td>\n",
              "      <td>M</td>\n",
              "      <td>S</td>\n",
              "      <td>2</td>\n",
              "      <td>0.0</td>\n",
              "      <td>0.0</td>\n",
              "      <td>24.680690</td>\n",
              "      <td>5257.103448</td>\n",
              "      <td>3.7310</td>\n",
              "      <td>25.5</td>\n",
              "      <td>43.1</td>\n",
              "      <td>1</td>\n",
              "      <td>45.019310</td>\n",
              "      <td>1449</td>\n",
              "    </tr>\n",
              "    <tr>\n",
              "      <th>2940</th>\n",
              "      <td>100017</td>\n",
              "      <td>12/18/14</td>\n",
              "      <td>E</td>\n",
              "      <td>K</td>\n",
              "      <td>T</td>\n",
              "      <td>2</td>\n",
              "      <td>0.0</td>\n",
              "      <td>0.0</td>\n",
              "      <td>29.906154</td>\n",
              "      <td>5233.307692</td>\n",
              "      <td>8.4132</td>\n",
              "      <td>0.1</td>\n",
              "      <td>678.0</td>\n",
              "      <td>1</td>\n",
              "      <td>1.092308</td>\n",
              "      <td>9996</td>\n",
              "    </tr>\n",
              "  </tbody>\n",
              "</table>\n",
              "</div>"
            ],
            "text/plain": [
              "          ID      DATE  ...         S8 AGE_OF_EQUIPMENT\n",
              "143   100001   4/24/15  ...   0.000000             1023\n",
              "1452  100003  11/22/16  ...   0.000000             1121\n",
              "1974  100009   4/27/16  ...  89.084138              832\n",
              "2882  100014  10/21/16  ...  45.019310             1449\n",
              "2940  100017  12/18/14  ...   1.092308             9996\n",
              "\n",
              "[5 rows x 16 columns]"
            ]
          },
          "metadata": {
            "tags": []
          },
          "execution_count": 22
        }
      ]
    },
    {
      "cell_type": "markdown",
      "metadata": {
        "id": "d5as4zWw2zjZ"
      },
      "source": [
        "plot the scatter plot"
      ]
    },
    {
      "cell_type": "code",
      "metadata": {
        "colab": {
          "base_uri": "https://localhost:8080/",
          "height": 287
        },
        "id": "uYqlGC2LxRNu",
        "outputId": "2f71eea8-384b-486d-a53c-3585208e4626"
      },
      "source": [
        "plt.scatter(sensor_failure_all['S17'], sensor_failure_all['S16'], c=sensor_failure_all['EQUIPMENT_FAILURE'], s=40, cmap='viridis')"
      ],
      "execution_count": 18,
      "outputs": [
        {
          "output_type": "execute_result",
          "data": {
            "text/plain": [
              "<matplotlib.collections.PathCollection at 0x7f906304c490>"
            ]
          },
          "metadata": {
            "tags": []
          },
          "execution_count": 18
        },
        {
          "output_type": "display_data",
          "data": {
            "image/png": "[encoded data removed]",
            "text/plain": [
              "<Figure size 432x288 with 1 Axes>"
            ]
          },
          "metadata": {
            "tags": []
          }
        }
      ]
    },
    {
      "cell_type": "code",
      "metadata": {
        "colab": {
          "base_uri": "https://localhost:8080/"
        },
        "id": "PTqui9RmwtQd",
        "outputId": "912de40b-a3ab-4891-f5ce-8497320f1638"
      },
      "source": [
        "sensor_failure_all['EQUIPMENT_FAILURE'].shape"
      ],
      "execution_count": 17,
      "outputs": [
        {
          "output_type": "execute_result",
          "data": {
            "text/plain": [
              "(58,)"
            ]
          },
          "metadata": {
            "tags": []
          },
          "execution_count": 17
        }
      ]
    },
    {
      "cell_type": "code",
      "metadata": {
        "colab": {
          "base_uri": "https://localhost:8080/"
        },
        "id": "cU0hE707w1x0",
        "outputId": "ce52ad1b-ee63-4d72-c1b7-83ac9735bcb7"
      },
      "source": [
        "# Generate some data\n",
        "from sklearn.datasets.samples_generator import make_blobs\n",
        "X, y_true = make_blobs(n_samples=400, centers=4,\n",
        "                       cluster_std=0.60, random_state=0)\n",
        "X = X[:, ::-1] # flip axes for better plotting"
      ],
      "execution_count": 3,
      "outputs": [
        {
          "output_type": "stream",
          "text": [
            "/usr/local/lib/python3.7/dist-packages/sklearn/utils/deprecation.py:144: FutureWarning: The sklearn.datasets.samples_generator module is  deprecated in version 0.22 and will be removed in version 0.24. The corresponding classes / functions should instead be imported from sklearn.datasets. Anything that cannot be imported from sklearn.datasets is now part of the private API.\n",
            "  warnings.warn(message, FutureWarning)\n"
          ],
          "name": "stderr"
        }
      ]
    },
    {
      "cell_type": "markdown",
      "metadata": {
        "id": "ywZx5bHo2jch"
      },
      "source": [
        "## plot the centroids and the groups of the clustering output"
      ]
    },
    {
      "cell_type": "code",
      "metadata": {
        "id": "RvrPSZhCzDUC"
      },
      "source": [
        "from sklearn.cluster import KMeans\n",
        "from scipy.spatial.distance import cdist\n",
        "\n",
        "def plot_kmeans(kmeans, X, n_clusters=2, rseed=0, ax=None): #, ax=None\n",
        "    labels = kmeans.fit_predict(X)\n",
        "    plt.title('k means with rounded groups')\n",
        "    # plot the input data\n",
        "    ax = ax or plt.gca()\n",
        "    ax.axis('equal')\n",
        "    ax.scatter(X[:, 0], X[:, 1], c=labels, s=40, cmap='viridis', zorder=2)\n",
        "\n",
        "    # plot the representation of the KMeans model\n",
        "    centers = kmeans.cluster_centers_\n",
        "    radii = [cdist(X[labels == i], [center]).max()\n",
        "             for i, center in enumerate(centers)]\n",
        "    for c, r in zip(centers, radii):\n",
        "        ax.add_patch(plt.Circle(c, r, fc='#CCCCCC', lw=3, alpha=0.5, zorder=1))"
      ],
      "execution_count": 58,
      "outputs": []
    },
    {
      "cell_type": "code",
      "metadata": {
        "colab": {
          "base_uri": "https://localhost:8080/",
          "height": 284
        },
        "id": "0H7va3WXw326",
        "outputId": "d8b077c2-c199-4bad-affe-21297dedf637"
      },
      "source": [
        "# Plot the data with K Means Labels\n",
        "from sklearn.cluster import KMeans\n",
        "kmeans = KMeans(2, random_state=0)\n",
        "labels = kmeans.fit(Xs).predict(Xs)\n",
        "\n",
        "\n",
        "#plt.plot()\n",
        "plt.title('k means centroids with groups')\n",
        "\n",
        "\n",
        "centers = np.array(kmeans.cluster_centers_)\n",
        "\n",
        "for i, l in enumerate(kmeans.labels_):\n",
        "  #  plt.plot(Xs.iloc[:, 0][i], Xs.iloc[:, 1][i], color=colors[l], marker=markers[l],ls='None')\n",
        "    #plt.xlim([0, 10])\n",
        "    #plt.ylim([0, 10])\n",
        "\n",
        "  plt.scatter(centers[:,0], centers[:,1], marker=\"x\", color='r',s=80)\n",
        "\n",
        "\n",
        "\n",
        "\n",
        "#plot\n",
        "plt.scatter(Xs.iloc[:, 0], Xs.iloc[:, 1], c=labels, s=40, cmap='viridis')\n",
        "\n",
        "plt.show()"
      ],
      "execution_count": 56,
      "outputs": [
        {
          "output_type": "display_data",
          "data": {
            "image/png": "[encoded data removed]",
            "text/plain": [
              "<Figure size 432x288 with 1 Axes>"
            ]
          },
          "metadata": {
            "tags": []
          }
        }
      ]
    },
    {
      "cell_type": "code",
      "metadata": {
        "colab": {
          "base_uri": "https://localhost:8080/",
          "height": 284
        },
        "id": "MyezU3H3w6sx",
        "outputId": "4c96b610-b75d-4564-cf68-91ff4c3ccac9"
      },
      "source": [
        "plot_kmeans(kmeans, Xs.values)"
      ],
      "execution_count": 59,
      "outputs": [
        {
          "output_type": "display_data",
          "data": {
            "image/png": "[encoded data removed]",
            "text/plain": [
              "<Figure size 432x288 with 1 Axes>"
            ]
          },
          "metadata": {
            "tags": []
          }
        }
      ]
    },
    {
      "cell_type": "code",
      "metadata": {
        "id": "m_9aqJw2w8iO"
      },
      "source": [
        ""
      ],
      "execution_count": null,
      "outputs": []
    }
  ]
}