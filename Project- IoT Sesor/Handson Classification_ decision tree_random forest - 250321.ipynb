{
  "cells": [
    {
      "cell_type": "markdown",
      "source": [
        "# 1. Classification- KNN"
      ],
      "metadata": {
        "nteract": {
          "transient": {
            "deleting": false
          }
        }
      }
    },
    {
      "cell_type": "markdown",
      "source": [
        "## load data"
      ],
      "metadata": {
        "nteract": {
          "transient": {
            "deleting": false
          }
        }
      }
    },
    {
      "cell_type": "code",
      "source": [
        "import pandas as pd\r\n",
        "from sklearn.model_selection import train_test_split\r\n",
        "sensor = pd.read_csv('https://raw.githubusercontent.com/shadgriffin/machine_failure/master/equipment_failure_data_1.csv')\r\n",
        "sensor.head()\r\n",
        "\r\n",
        "\r\n",
        "#,\"DoleLR\"\t,\"PID\",\t\"outpressure\",\t\"inpressure\",\t\"temp\"]]\r\n",
        "\r\n",
        "ys_failure=sensor['EQUIPMENT_FAILURE']==1\r\n",
        "ys_no_failure=sensor['EQUIPMENT_FAILURE']==0\r\n",
        "sensor_failure=sensor[ys_failure].truncate(after=5000)\r\n",
        "sensor_no_failure=sensor[ys_no_failure].truncate(after=50)\r\n",
        "\r\n",
        "#sensor_no_failure.head(30)\r\n",
        "\r\n",
        "sensor_failure_all= sensor_failure.append(sensor_no_failure)\r\n",
        "sensor_failure_all.head(20)\r\n",
        "sensor_failure_all\r\n",
        "\r\n",
        "Xs=sensor_failure_all[[\"S15\",\t\"S16\"\t]]\t\r\n",
        "ys=sensor_failure_all['EQUIPMENT_FAILURE']\r\n",
        "sensor_failure_all.head(30)\r\n",
        "#sensor_failure_all.shape"
      ],
      "outputs": [
        {
          "output_type": "execute_result",
          "execution_count": 8,
          "data": {
            "text/plain": "          ID      DATE REGION_CLUSTER MAINTENANCE_VENDOR MANUFACTURER  \\\n143   100001   4/24/15              G                  O            Y   \n1452  100003  11/22/16              C                  L            T   \n1974  100009   4/27/16              H                  M            X   \n2882  100014  10/21/16              H                  M            S   \n2940  100017  12/18/14              E                  K            T   \n4227  100018   6/26/16              A                  J            T   \n4851  100019   3/11/16              B                  M            Q   \n0     100001   12/2/14              G                  O            Y   \n1     100001   12/3/14              G                  O            Y   \n2     100001   12/4/14              G                  O            Y   \n3     100001   12/5/14              G                  O            Y   \n4     100001   12/6/14              G                  O            Y   \n5     100001   12/7/14              G                  O            Y   \n6     100001   12/8/14              G                  O            Y   \n7     100001   12/9/14              G                  O            Y   \n8     100001  12/10/14              G                  O            Y   \n9     100001  12/11/14              G                  O            Y   \n10    100001  12/12/14              G                  O            Y   \n11    100001  12/13/14              G                  O            Y   \n12    100001  12/14/14              G                  O            Y   \n13    100001  12/15/14              G                  O            Y   \n14    100001  12/16/14              G                  O            Y   \n15    100001  12/17/14              G                  O            Y   \n16    100001  12/18/14              G                  O            Y   \n17    100001  12/19/14              G                  O            Y   \n18    100001  12/20/14              G                  O            Y   \n19    100001  12/21/14              G                  O            Y   \n20    100001  12/22/14              G                  O            Y   \n21    100001  12/23/14              G                  O            Y   \n22    100001  12/24/14              G                  O            Y   \n\n      WELL_GROUP        S15         S17        S13           S5        S16  \\\n143            1   0.000000    0.000000   0.000000     0.000000   8.892400   \n1452           1   0.000000    0.000000   0.000000     0.000000   8.704800   \n1974           3   0.000000    0.000000  23.614483  7202.413793   3.282400   \n2882           2   0.000000    0.000000  24.680690  5257.103448   3.731000   \n2940           2   0.000000    0.000000  29.906154  5233.307692   8.413200   \n4227           3   0.000000    0.000000  24.430000  3494.000000   6.059000   \n4851           4   0.000000    0.000000  28.340000  2522.000000  10.472000   \n0              1  11.088000  145.223448  39.340000  3501.000000   8.426869   \n1              1   8.877943  187.573214  39.200000  3489.000000   6.483714   \n2              1   8.676444  148.363704  38.870000  3459.000000   6.159659   \n3              1   9.988338  133.660000  39.470000  3513.000000   9.320308   \n4              1   8.475264  197.181600  40.330000  3589.000000   8.022960   \n5              1   7.971100  164.545833  38.740000  3448.000000   6.645075   \n6              1  11.009948  175.852174  38.840000  3457.000000   6.401404   \n7              1   8.283491  136.767273  39.580000  3523.000000   8.507864   \n8              1   7.577143  182.293333  39.780000  3540.000000   9.884905   \n9              1   8.487360  203.375000  39.540000  3519.000000   9.883830   \n10             1  12.025263  126.893684  40.690000  3621.000000   7.293316   \n11             1  11.941600  134.967222  39.610000  3525.000000   9.399222   \n12             1  12.652941  167.405294  39.370000  3504.000000   9.154994   \n13             1   7.695000  138.071875  39.210000  3490.000000   6.156950   \n14             1  12.052320  194.800000  39.440000  3510.000000   7.535480   \n15             1  11.853771  139.627143  38.850000  3458.000000   6.725371   \n16             1  21.120000    0.000000  38.760000  3450.000000  11.660400   \n17             1  28.080000    0.000000  39.890000  3550.000000   9.774700   \n18             1  30.000000    0.000000  39.340000  3501.000000  10.428000   \n19             1  18.960000    0.000000  40.130000  3572.000000   8.446100   \n20             1  26.880000    0.000000  38.150000  3395.000000  10.617600   \n21             1  23.280000    0.000000  39.600000  3524.000000   8.058000   \n22             1  19.440000    0.000000  39.660000  3530.000000  11.008400   \n\n       S19         S18  EQUIPMENT_FAILURE          S8  AGE_OF_EQUIPMENT  \n143    0.9  170.400000                  1    0.000000              1023  \n1452   0.0    4.400000                  1    0.000000              1121  \n1974  42.7   57.100000                  1   89.084138               832  \n2882  25.5   43.100000                  1   45.019310              1449  \n2940   0.1  678.000000                  1    1.092308              9996  \n4227   0.9  249.100000                  1  271.170000              1252  \n4851   0.0   11.400000                  1   43.050000              1205  \n0      1.9   24.610345                  0    0.000000               880  \n1      1.9   24.671429                  0    0.000000               881  \n2      2.0   24.733333                  0    0.000000               882  \n3      2.0   24.773077                  0    0.000000               883  \n4      1.5   24.808000                  0    0.000000               884  \n5      1.5   24.845833                  0    0.000000               885  \n6      1.5   24.886957                  0    0.000000               886  \n7      2.9   24.904545                  0    0.000000               887  \n8      2.9   24.933333                  0    0.000000               888  \n9      3.3   24.945000                  0    0.000000               889  \n10     3.3   25.000000                  0    0.000000               890  \n11     3.3   25.072222                  0    0.000000               891  \n12     3.3   25.152941                  0    0.000000               892  \n13     3.3   25.256250                  0    0.000000               893  \n14     3.3   25.353333                  0    0.000000               894  \n15     3.3   25.435714                  0    0.000000               895  \n16     3.3  154.500000                  0    0.000000               896  \n17     3.3  154.600000                  0    0.000000               897  \n18     3.3  154.800000                  0    0.000000               898  \n19     3.3  155.300000                  0    0.000000               899  \n20     3.3  155.000000                  0    0.000000               900  \n21     3.3  155.000000                  0    0.000000               901  \n22     3.3  155.000000                  0    0.000000               902  ",
            "text/html": "<div>\n<style scoped>\n    .dataframe tbody tr th:only-of-type {\n        vertical-align: middle;\n    }\n\n    .dataframe tbody tr th {\n        vertical-align: top;\n    }\n\n    .dataframe thead th {\n        text-align: right;\n    }\n</style>\n<table border=\"1\" class=\"dataframe\">\n  <thead>\n    <tr style=\"text-align: right;\">\n      <th></th>\n      <th>ID</th>\n      <th>DATE</th>\n      <th>REGION_CLUSTER</th>\n      <th>MAINTENANCE_VENDOR</th>\n      <th>MANUFACTURER</th>\n      <th>WELL_GROUP</th>\n      <th>S15</th>\n      <th>S17</th>\n      <th>S13</th>\n      <th>S5</th>\n      <th>S16</th>\n      <th>S19</th>\n      <th>S18</th>\n      <th>EQUIPMENT_FAILURE</th>\n      <th>S8</th>\n      <th>AGE_OF_EQUIPMENT</th>\n    </tr>\n  </thead>\n  <tbody>\n    <tr>\n      <th>143</th>\n      <td>100001</td>\n      <td>4/24/15</td>\n      <td>G</td>\n      <td>O</td>\n      <td>Y</td>\n      <td>1</td>\n      <td>0.000000</td>\n      <td>0.000000</td>\n      <td>0.000000</td>\n      <td>0.000000</td>\n      <td>8.892400</td>\n      <td>0.9</td>\n      <td>170.400000</td>\n      <td>1</td>\n      <td>0.000000</td>\n      <td>1023</td>\n    </tr>\n    <tr>\n      <th>1452</th>\n      <td>100003</td>\n      <td>11/22/16</td>\n      <td>C</td>\n      <td>L</td>\n      <td>T</td>\n      <td>1</td>\n      <td>0.000000</td>\n      <td>0.000000</td>\n      <td>0.000000</td>\n      <td>0.000000</td>\n      <td>8.704800</td>\n      <td>0.0</td>\n      <td>4.400000</td>\n      <td>1</td>\n      <td>0.000000</td>\n      <td>1121</td>\n    </tr>\n    <tr>\n      <th>1974</th>\n      <td>100009</td>\n      <td>4/27/16</td>\n      <td>H</td>\n      <td>M</td>\n      <td>X</td>\n      <td>3</td>\n      <td>0.000000</td>\n      <td>0.000000</td>\n      <td>23.614483</td>\n      <td>7202.413793</td>\n      <td>3.282400</td>\n      <td>42.7</td>\n      <td>57.100000</td>\n      <td>1</td>\n      <td>89.084138</td>\n      <td>832</td>\n    </tr>\n    <tr>\n      <th>2882</th>\n      <td>100014</td>\n      <td>10/21/16</td>\n      <td>H</td>\n      <td>M</td>\n      <td>S</td>\n      <td>2</td>\n      <td>0.000000</td>\n      <td>0.000000</td>\n      <td>24.680690</td>\n      <td>5257.103448</td>\n      <td>3.731000</td>\n      <td>25.5</td>\n      <td>43.100000</td>\n      <td>1</td>\n      <td>45.019310</td>\n      <td>1449</td>\n    </tr>\n    <tr>\n      <th>2940</th>\n      <td>100017</td>\n      <td>12/18/14</td>\n      <td>E</td>\n      <td>K</td>\n      <td>T</td>\n      <td>2</td>\n      <td>0.000000</td>\n      <td>0.000000</td>\n      <td>29.906154</td>\n      <td>5233.307692</td>\n      <td>8.413200</td>\n      <td>0.1</td>\n      <td>678.000000</td>\n      <td>1</td>\n      <td>1.092308</td>\n      <td>9996</td>\n    </tr>\n    <tr>\n      <th>4227</th>\n      <td>100018</td>\n      <td>6/26/16</td>\n      <td>A</td>\n      <td>J</td>\n      <td>T</td>\n      <td>3</td>\n      <td>0.000000</td>\n      <td>0.000000</td>\n      <td>24.430000</td>\n      <td>3494.000000</td>\n      <td>6.059000</td>\n      <td>0.9</td>\n      <td>249.100000</td>\n      <td>1</td>\n      <td>271.170000</td>\n      <td>1252</td>\n    </tr>\n    <tr>\n      <th>4851</th>\n      <td>100019</td>\n      <td>3/11/16</td>\n      <td>B</td>\n      <td>M</td>\n      <td>Q</td>\n      <td>4</td>\n      <td>0.000000</td>\n      <td>0.000000</td>\n      <td>28.340000</td>\n      <td>2522.000000</td>\n      <td>10.472000</td>\n      <td>0.0</td>\n      <td>11.400000</td>\n      <td>1</td>\n      <td>43.050000</td>\n      <td>1205</td>\n    </tr>\n    <tr>\n      <th>0</th>\n      <td>100001</td>\n      <td>12/2/14</td>\n      <td>G</td>\n      <td>O</td>\n      <td>Y</td>\n      <td>1</td>\n      <td>11.088000</td>\n      <td>145.223448</td>\n      <td>39.340000</td>\n      <td>3501.000000</td>\n      <td>8.426869</td>\n      <td>1.9</td>\n      <td>24.610345</td>\n      <td>0</td>\n      <td>0.000000</td>\n      <td>880</td>\n    </tr>\n    <tr>\n      <th>1</th>\n      <td>100001</td>\n      <td>12/3/14</td>\n      <td>G</td>\n      <td>O</td>\n      <td>Y</td>\n      <td>1</td>\n      <td>8.877943</td>\n      <td>187.573214</td>\n      <td>39.200000</td>\n      <td>3489.000000</td>\n      <td>6.483714</td>\n      <td>1.9</td>\n      <td>24.671429</td>\n      <td>0</td>\n      <td>0.000000</td>\n      <td>881</td>\n    </tr>\n    <tr>\n      <th>2</th>\n      <td>100001</td>\n      <td>12/4/14</td>\n      <td>G</td>\n      <td>O</td>\n      <td>Y</td>\n      <td>1</td>\n      <td>8.676444</td>\n      <td>148.363704</td>\n      <td>38.870000</td>\n      <td>3459.000000</td>\n      <td>6.159659</td>\n      <td>2.0</td>\n      <td>24.733333</td>\n      <td>0</td>\n      <td>0.000000</td>\n      <td>882</td>\n    </tr>\n    <tr>\n      <th>3</th>\n      <td>100001</td>\n      <td>12/5/14</td>\n      <td>G</td>\n      <td>O</td>\n      <td>Y</td>\n      <td>1</td>\n      <td>9.988338</td>\n      <td>133.660000</td>\n      <td>39.470000</td>\n      <td>3513.000000</td>\n      <td>9.320308</td>\n      <td>2.0</td>\n      <td>24.773077</td>\n      <td>0</td>\n      <td>0.000000</td>\n      <td>883</td>\n    </tr>\n    <tr>\n      <th>4</th>\n      <td>100001</td>\n      <td>12/6/14</td>\n      <td>G</td>\n      <td>O</td>\n      <td>Y</td>\n      <td>1</td>\n      <td>8.475264</td>\n      <td>197.181600</td>\n      <td>40.330000</td>\n      <td>3589.000000</td>\n      <td>8.022960</td>\n      <td>1.5</td>\n      <td>24.808000</td>\n      <td>0</td>\n      <td>0.000000</td>\n      <td>884</td>\n    </tr>\n    <tr>\n      <th>5</th>\n      <td>100001</td>\n      <td>12/7/14</td>\n      <td>G</td>\n      <td>O</td>\n      <td>Y</td>\n      <td>1</td>\n      <td>7.971100</td>\n      <td>164.545833</td>\n      <td>38.740000</td>\n      <td>3448.000000</td>\n      <td>6.645075</td>\n      <td>1.5</td>\n      <td>24.845833</td>\n      <td>0</td>\n      <td>0.000000</td>\n      <td>885</td>\n    </tr>\n    <tr>\n      <th>6</th>\n      <td>100001</td>\n      <td>12/8/14</td>\n      <td>G</td>\n      <td>O</td>\n      <td>Y</td>\n      <td>1</td>\n      <td>11.009948</td>\n      <td>175.852174</td>\n      <td>38.840000</td>\n      <td>3457.000000</td>\n      <td>6.401404</td>\n      <td>1.5</td>\n      <td>24.886957</td>\n      <td>0</td>\n      <td>0.000000</td>\n      <td>886</td>\n    </tr>\n    <tr>\n      <th>7</th>\n      <td>100001</td>\n      <td>12/9/14</td>\n      <td>G</td>\n      <td>O</td>\n      <td>Y</td>\n      <td>1</td>\n      <td>8.283491</td>\n      <td>136.767273</td>\n      <td>39.580000</td>\n      <td>3523.000000</td>\n      <td>8.507864</td>\n      <td>2.9</td>\n      <td>24.904545</td>\n      <td>0</td>\n      <td>0.000000</td>\n      <td>887</td>\n    </tr>\n    <tr>\n      <th>8</th>\n      <td>100001</td>\n      <td>12/10/14</td>\n      <td>G</td>\n      <td>O</td>\n      <td>Y</td>\n      <td>1</td>\n      <td>7.577143</td>\n      <td>182.293333</td>\n      <td>39.780000</td>\n      <td>3540.000000</td>\n      <td>9.884905</td>\n      <td>2.9</td>\n      <td>24.933333</td>\n      <td>0</td>\n      <td>0.000000</td>\n      <td>888</td>\n    </tr>\n    <tr>\n      <th>9</th>\n      <td>100001</td>\n      <td>12/11/14</td>\n      <td>G</td>\n      <td>O</td>\n      <td>Y</td>\n      <td>1</td>\n      <td>8.487360</td>\n      <td>203.375000</td>\n      <td>39.540000</td>\n      <td>3519.000000</td>\n      <td>9.883830</td>\n      <td>3.3</td>\n      <td>24.945000</td>\n      <td>0</td>\n      <td>0.000000</td>\n      <td>889</td>\n    </tr>\n    <tr>\n      <th>10</th>\n      <td>100001</td>\n      <td>12/12/14</td>\n      <td>G</td>\n      <td>O</td>\n      <td>Y</td>\n      <td>1</td>\n      <td>12.025263</td>\n      <td>126.893684</td>\n      <td>40.690000</td>\n      <td>3621.000000</td>\n      <td>7.293316</td>\n      <td>3.3</td>\n      <td>25.000000</td>\n      <td>0</td>\n      <td>0.000000</td>\n      <td>890</td>\n    </tr>\n    <tr>\n      <th>11</th>\n      <td>100001</td>\n      <td>12/13/14</td>\n      <td>G</td>\n      <td>O</td>\n      <td>Y</td>\n      <td>1</td>\n      <td>11.941600</td>\n      <td>134.967222</td>\n      <td>39.610000</td>\n      <td>3525.000000</td>\n      <td>9.399222</td>\n      <td>3.3</td>\n      <td>25.072222</td>\n      <td>0</td>\n      <td>0.000000</td>\n      <td>891</td>\n    </tr>\n    <tr>\n      <th>12</th>\n      <td>100001</td>\n      <td>12/14/14</td>\n      <td>G</td>\n      <td>O</td>\n      <td>Y</td>\n      <td>1</td>\n      <td>12.652941</td>\n      <td>167.405294</td>\n      <td>39.370000</td>\n      <td>3504.000000</td>\n      <td>9.154994</td>\n      <td>3.3</td>\n      <td>25.152941</td>\n      <td>0</td>\n      <td>0.000000</td>\n      <td>892</td>\n    </tr>\n    <tr>\n      <th>13</th>\n      <td>100001</td>\n      <td>12/15/14</td>\n      <td>G</td>\n      <td>O</td>\n      <td>Y</td>\n      <td>1</td>\n      <td>7.695000</td>\n      <td>138.071875</td>\n      <td>39.210000</td>\n      <td>3490.000000</td>\n      <td>6.156950</td>\n      <td>3.3</td>\n      <td>25.256250</td>\n      <td>0</td>\n      <td>0.000000</td>\n      <td>893</td>\n    </tr>\n    <tr>\n      <th>14</th>\n      <td>100001</td>\n      <td>12/16/14</td>\n      <td>G</td>\n      <td>O</td>\n      <td>Y</td>\n      <td>1</td>\n      <td>12.052320</td>\n      <td>194.800000</td>\n      <td>39.440000</td>\n      <td>3510.000000</td>\n      <td>7.535480</td>\n      <td>3.3</td>\n      <td>25.353333</td>\n      <td>0</td>\n      <td>0.000000</td>\n      <td>894</td>\n    </tr>\n    <tr>\n      <th>15</th>\n      <td>100001</td>\n      <td>12/17/14</td>\n      <td>G</td>\n      <td>O</td>\n      <td>Y</td>\n      <td>1</td>\n      <td>11.853771</td>\n      <td>139.627143</td>\n      <td>38.850000</td>\n      <td>3458.000000</td>\n      <td>6.725371</td>\n      <td>3.3</td>\n      <td>25.435714</td>\n      <td>0</td>\n      <td>0.000000</td>\n      <td>895</td>\n    </tr>\n    <tr>\n      <th>16</th>\n      <td>100001</td>\n      <td>12/18/14</td>\n      <td>G</td>\n      <td>O</td>\n      <td>Y</td>\n      <td>1</td>\n      <td>21.120000</td>\n      <td>0.000000</td>\n      <td>38.760000</td>\n      <td>3450.000000</td>\n      <td>11.660400</td>\n      <td>3.3</td>\n      <td>154.500000</td>\n      <td>0</td>\n      <td>0.000000</td>\n      <td>896</td>\n    </tr>\n    <tr>\n      <th>17</th>\n      <td>100001</td>\n      <td>12/19/14</td>\n      <td>G</td>\n      <td>O</td>\n      <td>Y</td>\n      <td>1</td>\n      <td>28.080000</td>\n      <td>0.000000</td>\n      <td>39.890000</td>\n      <td>3550.000000</td>\n      <td>9.774700</td>\n      <td>3.3</td>\n      <td>154.600000</td>\n      <td>0</td>\n      <td>0.000000</td>\n      <td>897</td>\n    </tr>\n    <tr>\n      <th>18</th>\n      <td>100001</td>\n      <td>12/20/14</td>\n      <td>G</td>\n      <td>O</td>\n      <td>Y</td>\n      <td>1</td>\n      <td>30.000000</td>\n      <td>0.000000</td>\n      <td>39.340000</td>\n      <td>3501.000000</td>\n      <td>10.428000</td>\n      <td>3.3</td>\n      <td>154.800000</td>\n      <td>0</td>\n      <td>0.000000</td>\n      <td>898</td>\n    </tr>\n    <tr>\n      <th>19</th>\n      <td>100001</td>\n      <td>12/21/14</td>\n      <td>G</td>\n      <td>O</td>\n      <td>Y</td>\n      <td>1</td>\n      <td>18.960000</td>\n      <td>0.000000</td>\n      <td>40.130000</td>\n      <td>3572.000000</td>\n      <td>8.446100</td>\n      <td>3.3</td>\n      <td>155.300000</td>\n      <td>0</td>\n      <td>0.000000</td>\n      <td>899</td>\n    </tr>\n    <tr>\n      <th>20</th>\n      <td>100001</td>\n      <td>12/22/14</td>\n      <td>G</td>\n      <td>O</td>\n      <td>Y</td>\n      <td>1</td>\n      <td>26.880000</td>\n      <td>0.000000</td>\n      <td>38.150000</td>\n      <td>3395.000000</td>\n      <td>10.617600</td>\n      <td>3.3</td>\n      <td>155.000000</td>\n      <td>0</td>\n      <td>0.000000</td>\n      <td>900</td>\n    </tr>\n    <tr>\n      <th>21</th>\n      <td>100001</td>\n      <td>12/23/14</td>\n      <td>G</td>\n      <td>O</td>\n      <td>Y</td>\n      <td>1</td>\n      <td>23.280000</td>\n      <td>0.000000</td>\n      <td>39.600000</td>\n      <td>3524.000000</td>\n      <td>8.058000</td>\n      <td>3.3</td>\n      <td>155.000000</td>\n      <td>0</td>\n      <td>0.000000</td>\n      <td>901</td>\n    </tr>\n    <tr>\n      <th>22</th>\n      <td>100001</td>\n      <td>12/24/14</td>\n      <td>G</td>\n      <td>O</td>\n      <td>Y</td>\n      <td>1</td>\n      <td>19.440000</td>\n      <td>0.000000</td>\n      <td>39.660000</td>\n      <td>3530.000000</td>\n      <td>11.008400</td>\n      <td>3.3</td>\n      <td>155.000000</td>\n      <td>0</td>\n      <td>0.000000</td>\n      <td>902</td>\n    </tr>\n  </tbody>\n</table>\n</div>"
          },
          "metadata": {}
        }
      ],
      "execution_count": 8,
      "metadata": {
        "collapsed": true,
        "jupyter": {
          "source_hidden": false,
          "outputs_hidden": false
        },
        "nteract": {
          "transient": {
            "deleting": false
          }
        },
        "gather": {
          "logged": 1616669680876
        }
      }
    },
    {
      "cell_type": "code",
      "source": [
        "sensor_failure_all.shape\r\n",
        "sensor_failure_all.dtypes"
      ],
      "outputs": [
        {
          "output_type": "execute_result",
          "execution_count": 28,
          "data": {
            "text/plain": "ID                      int64\nDATE                   object\nREGION_CLUSTER         object\nMAINTENANCE_VENDOR     object\nMANUFACTURER           object\nWELL_GROUP              int64\nS15                   float64\nS17                   float64\nS13                   float64\nS5                    float64\nS16                   float64\nS19                   float64\nS18                   float64\nEQUIPMENT_FAILURE       int64\nS8                    float64\nAGE_OF_EQUIPMENT        int64\ndtype: object"
          },
          "metadata": {}
        }
      ],
      "execution_count": 28,
      "metadata": {
        "collapsed": true,
        "jupyter": {
          "source_hidden": false,
          "outputs_hidden": false
        },
        "nteract": {
          "transient": {
            "deleting": false
          }
        },
        "gather": {
          "logged": 1616667276711
        }
      }
    },
    {
      "cell_type": "code",
      "source": [
        "import seaborn as sns\r\n",
        "import matplotlib.pyplot as plt\r\n",
        "#plt.figure(figsize=(10,10))\r\n",
        "#sensor_preS5=sensor_pre.truncate( after=400)\r\n",
        "\r\n",
        "sns.countplot(sensor_failure_all['EQUIPMENT_FAILURE'],label=\"Count\")\r\n",
        "plt.show()"
      ],
      "outputs": [
        {
          "output_type": "stream",
          "name": "stderr",
          "text": [
            "/anaconda/envs/azureml_py36/lib/python3.6/site-packages/seaborn/_decorators.py:43: FutureWarning: Pass the following variable as a keyword arg: x. From version 0.12, the only valid positional argument will be `data`, and passing other arguments without an explicit keyword will result in an error or misinterpretation.\n",
            "  FutureWarning\n"
          ]
        },
        {
          "output_type": "display_data",
          "data": {
            "text/plain": "<Figure size 432x288 with 1 Axes>",
            "image/png": "[encoded data removed]"
          },
          "metadata": {
            "needs_background": "light"
          }
        }
      ],
      "execution_count": 2,
      "metadata": {
        "collapsed": true,
        "jupyter": {
          "source_hidden": false,
          "outputs_hidden": false
        },
        "nteract": {
          "transient": {
            "deleting": false
          }
        },
        "gather": {
          "logged": 1616669420677
        }
      }
    },
    {
      "cell_type": "code",
      "source": [
        "X_train, X_test, y_train, y_test = train_test_split(Xs, ys, random_state=0)\r\n",
        "X_train.shape"
      ],
      "outputs": [
        {
          "output_type": "execute_result",
          "execution_count": 9,
          "data": {
            "text/plain": "(43, 2)"
          },
          "metadata": {}
        }
      ],
      "execution_count": 9,
      "metadata": {
        "collapsed": true,
        "jupyter": {
          "source_hidden": false,
          "outputs_hidden": false
        },
        "nteract": {
          "transient": {
            "deleting": false
          }
        },
        "gather": {
          "logged": 1616669686721
        }
      }
    },
    {
      "cell_type": "code",
      "source": [
        "import matplotlib.cm as cm\r\n",
        "%matplotlib inline\r\n",
        "import numpy as np\r\n",
        "import pandas as pd\r\n",
        "import matplotlib.pyplot as plt\r\n",
        "from matplotlib.colors import ListedColormap, BoundaryNorm\r\n",
        "import matplotlib.patches as mpatches\r\n",
        "import matplotlib.patches as mpatches\r\n",
        "from sklearn import neighbors, datasets\r\n",
        "from sklearn.model_selection import train_test_split\r\n",
        "\r\n",
        "\r\n",
        "\r\n",
        "#Xiot=df_iotdata[[\"footfall\",\t\"atemp\"\t,\"selfLR\"\t,\"ClinLR\"\t,\"DoleLR\"\t,\"PID\",\t\"outpressure\",\t\"inpressure\",\t\"temp\"]]\r\n",
        "#X=Xs  #.truncate(after=10)\r\n",
        "\r\n",
        "#X = fruits[['mass', 'width', 'height', 'color_score']]\r\n",
        "#y = fruits['fruit_label']\r\n",
        "#y=ys  #.truncate(after=10)\r\n",
        "\r\n",
        "#X_train, X_test, y_train, y_test = train_test_split(X, y, random_state=0)\r\n",
        "\r\n",
        "def plot_scatter_knn(X, y, n_neighbors, weights):\r\n",
        "\r\n",
        "    # as matrix set data its imßpoort for datframes\r\n",
        "    X_mat = X.as_matrix()\r\n",
        "    y_mat = y.as_matrix()\r\n",
        "\r\n",
        "    # Create color maps\r\n",
        "    cmap_light = ListedColormap(['#FFAAAA', '#AAFFAA', '#AAAAFF','#AFAFAF'])\r\n",
        "    cmap_bold  = ListedColormap(['#FF0000', '#00FF00', '#0000FF','#AFAFAF'])\r\n",
        "\r\n",
        "    clf = neighbors.KNeighborsClassifier(n_neighbors, weights=weights)\r\n",
        "    clf.fit(X_mat, y_mat)\r\n",
        "\r\n",
        "    # Plot the decision boundary by assigning a color in the color map\r\n",
        "    # to each mesh point.\r\n",
        "    \r\n",
        "    mesh_step_size = .01  # step size in the mesh\r\n",
        "    plot_symbol_size = 50\r\n",
        "    \r\n",
        "    x_min, x_max = X_mat[:, 0].min() - 1, X_mat[:, 0].max() + 1\r\n",
        "    y_min, y_max = X_mat[:, 1].min() - 1, X_mat[:, 1].max() + 1\r\n",
        "    xx, yy = np.meshgrid(np.arange(x_min, x_max, mesh_step_size),\r\n",
        "                         np.arange(y_min, y_max, mesh_step_size))\r\n",
        "    Z = clf.predict(np.c_[xx.ravel(), yy.ravel()])\r\n",
        "\r\n",
        "    # Put the result into a color plot\r\n",
        "    Z = Z.reshape(xx.shape)\r\n",
        "    plt.figure()\r\n",
        "    plt.pcolormesh(xx, yy, Z, cmap=cmap_light)\r\n",
        "\r\n",
        "    # Plot training points\r\n",
        "    plt.scatter(X_mat[:, 0], X_mat[:, 1], s=plot_symbol_size, c=y, cmap=cmap_bold, edgecolor = 'black')\r\n",
        "    plt.xlim(xx.min(), xx.max())\r\n",
        "    plt.ylim(yy.min(), yy.max())\r\n",
        "\r\n",
        "    patch0 = mpatches.Patch(color='#FF0000', label='normal')\r\n",
        "    patch1 = mpatches.Patch(color='#00FF00', label='failure')\r\n",
        "   \r\n",
        "    plt.legend(handles=[patch0, patch1])\r\n",
        "\r\n",
        "        \r\n",
        "    plt.xlabel('x')\r\n",
        "    plt.ylabel('y')\r\n",
        "    plt.title(\"4-Class classification (k = %i, weights = '%s')\"\r\n",
        "              % (n_neighbors, weights))\r\n",
        "    \r\n",
        "    plt.show()"
      ],
      "outputs": [],
      "execution_count": 6,
      "metadata": {
        "collapsed": true,
        "jupyter": {
          "source_hidden": false,
          "outputs_hidden": false
        },
        "nteract": {
          "transient": {
            "deleting": false
          }
        },
        "gather": {
          "logged": 1616669455486
        }
      }
    },
    {
      "cell_type": "code",
      "source": [
        "#call above function with kkn =5\r\n",
        "#plot the knn with scatter plot\r\n",
        "plot_scatter_knn(X_test, y_test, 3, 'uniform')"
      ],
      "outputs": [
        {
          "output_type": "stream",
          "name": "stderr",
          "text": [
            "/anaconda/envs/azureml_py36/lib/python3.6/site-packages/ipykernel_launcher.py:26: FutureWarning: Method .as_matrix will be removed in a future version. Use .values instead.\n",
            "/anaconda/envs/azureml_py36/lib/python3.6/site-packages/ipykernel_launcher.py:27: FutureWarning: Method .as_matrix will be removed in a future version. Use .values instead.\n"
          ]
        },
        {
          "output_type": "display_data",
          "data": {
            "text/plain": "<Figure size 432x288 with 1 Axes>",
            "image/png": "[encoded data removed]"
          },
          "metadata": {
            "needs_background": "light"
          }
        }
      ],
      "execution_count": 12,
      "metadata": {
        "collapsed": true,
        "jupyter": {
          "source_hidden": false,
          "outputs_hidden": false
        },
        "nteract": {
          "transient": {
            "deleting": false
          }
        },
        "gather": {
          "logged": 1616670009261
        }
      }
    },
    {
      "cell_type": "code",
      "source": [
        "#plot the knn scatter with normal (green) and failure (red)\r\n",
        "\r\n",
        "colors = {1:'red', 0:'green'}\r\n",
        "\r\n",
        "\r\n",
        "\r\n",
        "plt.title(\"plot the knn scatter with normal (green) and failure (red)\")\r\n",
        "plt.scatter(Xs.iloc[:, 0],Xs.iloc[:, 1], c=ys.map(colors))\r\n"
      ],
      "outputs": [
        {
          "output_type": "execute_result",
          "execution_count": 13,
          "data": {
            "text/plain": "<matplotlib.collections.PathCollection at 0x7f5b3f538630>"
          },
          "metadata": {}
        },
        {
          "output_type": "display_data",
          "data": {
            "text/plain": "<Figure size 432x288 with 1 Axes>",
            "image/png": "[encoded data removed]"
          },
          "metadata": {
            "needs_background": "light"
          }
        }
      ],
      "execution_count": 13,
      "metadata": {
        "collapsed": true,
        "jupyter": {
          "source_hidden": false,
          "outputs_hidden": false
        },
        "nteract": {
          "transient": {
            "deleting": false
          }
        },
        "gather": {
          "logged": 1616670070382
        }
      }
    },
    {
      "cell_type": "markdown",
      "source": [
        "# 2. Classification- Random forest\r\n",
        "http://luisvalesilva.com/datasimple/random_forests.html"
      ],
      "metadata": {
        "nteract": {
          "transient": {
            "deleting": false
          }
        }
      }
    },
    {
      "cell_type": "markdown",
      "source": [
        "## load data"
      ],
      "metadata": {
        "nteract": {
          "transient": {
            "deleting": false
          }
        }
      }
    },
    {
      "cell_type": "code",
      "source": [
        "import pandas as pd\r\n",
        "sensor = pd.read_csv('https://raw.githubusercontent.com/shadgriffin/machine_failure/master/equipment_failure_data_1.csv')\r\n",
        "sensor.head()\r\n",
        "\r\n",
        "\r\n",
        "#,\"DoleLR\"\t,\"PID\",\t\"outpressure\",\t\"inpressure\",\t\"temp\"]]\r\n",
        "\r\n",
        "ys_failure=sensor['EQUIPMENT_FAILURE']==1\r\n",
        "ys_no_failure=sensor['EQUIPMENT_FAILURE']==0\r\n",
        "sensor_failure=sensor[ys_failure].truncate(after=5000)\r\n",
        "sensor_no_failure=sensor[ys_no_failure].truncate(after=50)\r\n",
        "\r\n",
        "#sensor_no_failure.head(30)\r\n",
        "\r\n",
        "sensor_failure_all= sensor_failure.append(sensor_no_failure)\r\n",
        "sensor_failure_all.head(20)\r\n",
        "sensor_failure_all\r\n",
        "\r\n",
        "Xs=sensor_failure_all[[\"S18\",\t\"S16\"\t]]\t\r\n",
        "ys=sensor_failure_all['EQUIPMENT_FAILURE']\r\n",
        "sensor_failure_all.head(30)"
      ],
      "outputs": [
        {
          "output_type": "execute_result",
          "execution_count": 19,
          "data": {
            "text/plain": "          ID      DATE REGION_CLUSTER MAINTENANCE_VENDOR MANUFACTURER  \\\n143   100001   4/24/15              G                  O            Y   \n1452  100003  11/22/16              C                  L            T   \n1974  100009   4/27/16              H                  M            X   \n2882  100014  10/21/16              H                  M            S   \n2940  100017  12/18/14              E                  K            T   \n4227  100018   6/26/16              A                  J            T   \n4851  100019   3/11/16              B                  M            Q   \n0     100001   12/2/14              G                  O            Y   \n1     100001   12/3/14              G                  O            Y   \n2     100001   12/4/14              G                  O            Y   \n3     100001   12/5/14              G                  O            Y   \n4     100001   12/6/14              G                  O            Y   \n5     100001   12/7/14              G                  O            Y   \n6     100001   12/8/14              G                  O            Y   \n7     100001   12/9/14              G                  O            Y   \n8     100001  12/10/14              G                  O            Y   \n9     100001  12/11/14              G                  O            Y   \n10    100001  12/12/14              G                  O            Y   \n11    100001  12/13/14              G                  O            Y   \n12    100001  12/14/14              G                  O            Y   \n13    100001  12/15/14              G                  O            Y   \n14    100001  12/16/14              G                  O            Y   \n15    100001  12/17/14              G                  O            Y   \n16    100001  12/18/14              G                  O            Y   \n17    100001  12/19/14              G                  O            Y   \n18    100001  12/20/14              G                  O            Y   \n19    100001  12/21/14              G                  O            Y   \n20    100001  12/22/14              G                  O            Y   \n21    100001  12/23/14              G                  O            Y   \n22    100001  12/24/14              G                  O            Y   \n\n      WELL_GROUP        S15         S17        S13           S5        S16  \\\n143            1   0.000000    0.000000   0.000000     0.000000   8.892400   \n1452           1   0.000000    0.000000   0.000000     0.000000   8.704800   \n1974           3   0.000000    0.000000  23.614483  7202.413793   3.282400   \n2882           2   0.000000    0.000000  24.680690  5257.103448   3.731000   \n2940           2   0.000000    0.000000  29.906154  5233.307692   8.413200   \n4227           3   0.000000    0.000000  24.430000  3494.000000   6.059000   \n4851           4   0.000000    0.000000  28.340000  2522.000000  10.472000   \n0              1  11.088000  145.223448  39.340000  3501.000000   8.426869   \n1              1   8.877943  187.573214  39.200000  3489.000000   6.483714   \n2              1   8.676444  148.363704  38.870000  3459.000000   6.159659   \n3              1   9.988338  133.660000  39.470000  3513.000000   9.320308   \n4              1   8.475264  197.181600  40.330000  3589.000000   8.022960   \n5              1   7.971100  164.545833  38.740000  3448.000000   6.645075   \n6              1  11.009948  175.852174  38.840000  3457.000000   6.401404   \n7              1   8.283491  136.767273  39.580000  3523.000000   8.507864   \n8              1   7.577143  182.293333  39.780000  3540.000000   9.884905   \n9              1   8.487360  203.375000  39.540000  3519.000000   9.883830   \n10             1  12.025263  126.893684  40.690000  3621.000000   7.293316   \n11             1  11.941600  134.967222  39.610000  3525.000000   9.399222   \n12             1  12.652941  167.405294  39.370000  3504.000000   9.154994   \n13             1   7.695000  138.071875  39.210000  3490.000000   6.156950   \n14             1  12.052320  194.800000  39.440000  3510.000000   7.535480   \n15             1  11.853771  139.627143  38.850000  3458.000000   6.725371   \n16             1  21.120000    0.000000  38.760000  3450.000000  11.660400   \n17             1  28.080000    0.000000  39.890000  3550.000000   9.774700   \n18             1  30.000000    0.000000  39.340000  3501.000000  10.428000   \n19             1  18.960000    0.000000  40.130000  3572.000000   8.446100   \n20             1  26.880000    0.000000  38.150000  3395.000000  10.617600   \n21             1  23.280000    0.000000  39.600000  3524.000000   8.058000   \n22             1  19.440000    0.000000  39.660000  3530.000000  11.008400   \n\n       S19         S18  EQUIPMENT_FAILURE          S8  AGE_OF_EQUIPMENT  \n143    0.9  170.400000                  1    0.000000              1023  \n1452   0.0    4.400000                  1    0.000000              1121  \n1974  42.7   57.100000                  1   89.084138               832  \n2882  25.5   43.100000                  1   45.019310              1449  \n2940   0.1  678.000000                  1    1.092308              9996  \n4227   0.9  249.100000                  1  271.170000              1252  \n4851   0.0   11.400000                  1   43.050000              1205  \n0      1.9   24.610345                  0    0.000000               880  \n1      1.9   24.671429                  0    0.000000               881  \n2      2.0   24.733333                  0    0.000000               882  \n3      2.0   24.773077                  0    0.000000               883  \n4      1.5   24.808000                  0    0.000000               884  \n5      1.5   24.845833                  0    0.000000               885  \n6      1.5   24.886957                  0    0.000000               886  \n7      2.9   24.904545                  0    0.000000               887  \n8      2.9   24.933333                  0    0.000000               888  \n9      3.3   24.945000                  0    0.000000               889  \n10     3.3   25.000000                  0    0.000000               890  \n11     3.3   25.072222                  0    0.000000               891  \n12     3.3   25.152941                  0    0.000000               892  \n13     3.3   25.256250                  0    0.000000               893  \n14     3.3   25.353333                  0    0.000000               894  \n15     3.3   25.435714                  0    0.000000               895  \n16     3.3  154.500000                  0    0.000000               896  \n17     3.3  154.600000                  0    0.000000               897  \n18     3.3  154.800000                  0    0.000000               898  \n19     3.3  155.300000                  0    0.000000               899  \n20     3.3  155.000000                  0    0.000000               900  \n21     3.3  155.000000                  0    0.000000               901  \n22     3.3  155.000000                  0    0.000000               902  ",
            "text/html": "<div>\n<style scoped>\n    .dataframe tbody tr th:only-of-type {\n        vertical-align: middle;\n    }\n\n    .dataframe tbody tr th {\n        vertical-align: top;\n    }\n\n    .dataframe thead th {\n        text-align: right;\n    }\n</style>\n<table border=\"1\" class=\"dataframe\">\n  <thead>\n    <tr style=\"text-align: right;\">\n      <th></th>\n      <th>ID</th>\n      <th>DATE</th>\n      <th>REGION_CLUSTER</th>\n      <th>MAINTENANCE_VENDOR</th>\n      <th>MANUFACTURER</th>\n      <th>WELL_GROUP</th>\n      <th>S15</th>\n      <th>S17</th>\n      <th>S13</th>\n      <th>S5</th>\n      <th>S16</th>\n      <th>S19</th>\n      <th>S18</th>\n      <th>EQUIPMENT_FAILURE</th>\n      <th>S8</th>\n      <th>AGE_OF_EQUIPMENT</th>\n    </tr>\n  </thead>\n  <tbody>\n    <tr>\n      <th>143</th>\n      <td>100001</td>\n      <td>4/24/15</td>\n      <td>G</td>\n      <td>O</td>\n      <td>Y</td>\n      <td>1</td>\n      <td>0.000000</td>\n      <td>0.000000</td>\n      <td>0.000000</td>\n      <td>0.000000</td>\n      <td>8.892400</td>\n      <td>0.9</td>\n      <td>170.400000</td>\n      <td>1</td>\n      <td>0.000000</td>\n      <td>1023</td>\n    </tr>\n    <tr>\n      <th>1452</th>\n      <td>100003</td>\n      <td>11/22/16</td>\n      <td>C</td>\n      <td>L</td>\n      <td>T</td>\n      <td>1</td>\n      <td>0.000000</td>\n      <td>0.000000</td>\n      <td>0.000000</td>\n      <td>0.000000</td>\n      <td>8.704800</td>\n      <td>0.0</td>\n      <td>4.400000</td>\n      <td>1</td>\n      <td>0.000000</td>\n      <td>1121</td>\n    </tr>\n    <tr>\n      <th>1974</th>\n      <td>100009</td>\n      <td>4/27/16</td>\n      <td>H</td>\n      <td>M</td>\n      <td>X</td>\n      <td>3</td>\n      <td>0.000000</td>\n      <td>0.000000</td>\n      <td>23.614483</td>\n      <td>7202.413793</td>\n      <td>3.282400</td>\n      <td>42.7</td>\n      <td>57.100000</td>\n      <td>1</td>\n      <td>89.084138</td>\n      <td>832</td>\n    </tr>\n    <tr>\n      <th>2882</th>\n      <td>100014</td>\n      <td>10/21/16</td>\n      <td>H</td>\n      <td>M</td>\n      <td>S</td>\n      <td>2</td>\n      <td>0.000000</td>\n      <td>0.000000</td>\n      <td>24.680690</td>\n      <td>5257.103448</td>\n      <td>3.731000</td>\n      <td>25.5</td>\n      <td>43.100000</td>\n      <td>1</td>\n      <td>45.019310</td>\n      <td>1449</td>\n    </tr>\n    <tr>\n      <th>2940</th>\n      <td>100017</td>\n      <td>12/18/14</td>\n      <td>E</td>\n      <td>K</td>\n      <td>T</td>\n      <td>2</td>\n      <td>0.000000</td>\n      <td>0.000000</td>\n      <td>29.906154</td>\n      <td>5233.307692</td>\n      <td>8.413200</td>\n      <td>0.1</td>\n      <td>678.000000</td>\n      <td>1</td>\n      <td>1.092308</td>\n      <td>9996</td>\n    </tr>\n    <tr>\n      <th>4227</th>\n      <td>100018</td>\n      <td>6/26/16</td>\n      <td>A</td>\n      <td>J</td>\n      <td>T</td>\n      <td>3</td>\n      <td>0.000000</td>\n      <td>0.000000</td>\n      <td>24.430000</td>\n      <td>3494.000000</td>\n      <td>6.059000</td>\n      <td>0.9</td>\n      <td>249.100000</td>\n      <td>1</td>\n      <td>271.170000</td>\n      <td>1252</td>\n    </tr>\n    <tr>\n      <th>4851</th>\n      <td>100019</td>\n      <td>3/11/16</td>\n      <td>B</td>\n      <td>M</td>\n      <td>Q</td>\n      <td>4</td>\n      <td>0.000000</td>\n      <td>0.000000</td>\n      <td>28.340000</td>\n      <td>2522.000000</td>\n      <td>10.472000</td>\n      <td>0.0</td>\n      <td>11.400000</td>\n      <td>1</td>\n      <td>43.050000</td>\n      <td>1205</td>\n    </tr>\n    <tr>\n      <th>0</th>\n      <td>100001</td>\n      <td>12/2/14</td>\n      <td>G</td>\n      <td>O</td>\n      <td>Y</td>\n      <td>1</td>\n      <td>11.088000</td>\n      <td>145.223448</td>\n      <td>39.340000</td>\n      <td>3501.000000</td>\n      <td>8.426869</td>\n      <td>1.9</td>\n      <td>24.610345</td>\n      <td>0</td>\n      <td>0.000000</td>\n      <td>880</td>\n    </tr>\n    <tr>\n      <th>1</th>\n      <td>100001</td>\n      <td>12/3/14</td>\n      <td>G</td>\n      <td>O</td>\n      <td>Y</td>\n      <td>1</td>\n      <td>8.877943</td>\n      <td>187.573214</td>\n      <td>39.200000</td>\n      <td>3489.000000</td>\n      <td>6.483714</td>\n      <td>1.9</td>\n      <td>24.671429</td>\n      <td>0</td>\n      <td>0.000000</td>\n      <td>881</td>\n    </tr>\n    <tr>\n      <th>2</th>\n      <td>100001</td>\n      <td>12/4/14</td>\n      <td>G</td>\n      <td>O</td>\n      <td>Y</td>\n      <td>1</td>\n      <td>8.676444</td>\n      <td>148.363704</td>\n      <td>38.870000</td>\n      <td>3459.000000</td>\n      <td>6.159659</td>\n      <td>2.0</td>\n      <td>24.733333</td>\n      <td>0</td>\n      <td>0.000000</td>\n      <td>882</td>\n    </tr>\n    <tr>\n      <th>3</th>\n      <td>100001</td>\n      <td>12/5/14</td>\n      <td>G</td>\n      <td>O</td>\n      <td>Y</td>\n      <td>1</td>\n      <td>9.988338</td>\n      <td>133.660000</td>\n      <td>39.470000</td>\n      <td>3513.000000</td>\n      <td>9.320308</td>\n      <td>2.0</td>\n      <td>24.773077</td>\n      <td>0</td>\n      <td>0.000000</td>\n      <td>883</td>\n    </tr>\n    <tr>\n      <th>4</th>\n      <td>100001</td>\n      <td>12/6/14</td>\n      <td>G</td>\n      <td>O</td>\n      <td>Y</td>\n      <td>1</td>\n      <td>8.475264</td>\n      <td>197.181600</td>\n      <td>40.330000</td>\n      <td>3589.000000</td>\n      <td>8.022960</td>\n      <td>1.5</td>\n      <td>24.808000</td>\n      <td>0</td>\n      <td>0.000000</td>\n      <td>884</td>\n    </tr>\n    <tr>\n      <th>5</th>\n      <td>100001</td>\n      <td>12/7/14</td>\n      <td>G</td>\n      <td>O</td>\n      <td>Y</td>\n      <td>1</td>\n      <td>7.971100</td>\n      <td>164.545833</td>\n      <td>38.740000</td>\n      <td>3448.000000</td>\n      <td>6.645075</td>\n      <td>1.5</td>\n      <td>24.845833</td>\n      <td>0</td>\n      <td>0.000000</td>\n      <td>885</td>\n    </tr>\n    <tr>\n      <th>6</th>\n      <td>100001</td>\n      <td>12/8/14</td>\n      <td>G</td>\n      <td>O</td>\n      <td>Y</td>\n      <td>1</td>\n      <td>11.009948</td>\n      <td>175.852174</td>\n      <td>38.840000</td>\n      <td>3457.000000</td>\n      <td>6.401404</td>\n      <td>1.5</td>\n      <td>24.886957</td>\n      <td>0</td>\n      <td>0.000000</td>\n      <td>886</td>\n    </tr>\n    <tr>\n      <th>7</th>\n      <td>100001</td>\n      <td>12/9/14</td>\n      <td>G</td>\n      <td>O</td>\n      <td>Y</td>\n      <td>1</td>\n      <td>8.283491</td>\n      <td>136.767273</td>\n      <td>39.580000</td>\n      <td>3523.000000</td>\n      <td>8.507864</td>\n      <td>2.9</td>\n      <td>24.904545</td>\n      <td>0</td>\n      <td>0.000000</td>\n      <td>887</td>\n    </tr>\n    <tr>\n      <th>8</th>\n      <td>100001</td>\n      <td>12/10/14</td>\n      <td>G</td>\n      <td>O</td>\n      <td>Y</td>\n      <td>1</td>\n      <td>7.577143</td>\n      <td>182.293333</td>\n      <td>39.780000</td>\n      <td>3540.000000</td>\n      <td>9.884905</td>\n      <td>2.9</td>\n      <td>24.933333</td>\n      <td>0</td>\n      <td>0.000000</td>\n      <td>888</td>\n    </tr>\n    <tr>\n      <th>9</th>\n      <td>100001</td>\n      <td>12/11/14</td>\n      <td>G</td>\n      <td>O</td>\n      <td>Y</td>\n      <td>1</td>\n      <td>8.487360</td>\n      <td>203.375000</td>\n      <td>39.540000</td>\n      <td>3519.000000</td>\n      <td>9.883830</td>\n      <td>3.3</td>\n      <td>24.945000</td>\n      <td>0</td>\n      <td>0.000000</td>\n      <td>889</td>\n    </tr>\n    <tr>\n      <th>10</th>\n      <td>100001</td>\n      <td>12/12/14</td>\n      <td>G</td>\n      <td>O</td>\n      <td>Y</td>\n      <td>1</td>\n      <td>12.025263</td>\n      <td>126.893684</td>\n      <td>40.690000</td>\n      <td>3621.000000</td>\n      <td>7.293316</td>\n      <td>3.3</td>\n      <td>25.000000</td>\n      <td>0</td>\n      <td>0.000000</td>\n      <td>890</td>\n    </tr>\n    <tr>\n      <th>11</th>\n      <td>100001</td>\n      <td>12/13/14</td>\n      <td>G</td>\n      <td>O</td>\n      <td>Y</td>\n      <td>1</td>\n      <td>11.941600</td>\n      <td>134.967222</td>\n      <td>39.610000</td>\n      <td>3525.000000</td>\n      <td>9.399222</td>\n      <td>3.3</td>\n      <td>25.072222</td>\n      <td>0</td>\n      <td>0.000000</td>\n      <td>891</td>\n    </tr>\n    <tr>\n      <th>12</th>\n      <td>100001</td>\n      <td>12/14/14</td>\n      <td>G</td>\n      <td>O</td>\n      <td>Y</td>\n      <td>1</td>\n      <td>12.652941</td>\n      <td>167.405294</td>\n      <td>39.370000</td>\n      <td>3504.000000</td>\n      <td>9.154994</td>\n      <td>3.3</td>\n      <td>25.152941</td>\n      <td>0</td>\n      <td>0.000000</td>\n      <td>892</td>\n    </tr>\n    <tr>\n      <th>13</th>\n      <td>100001</td>\n      <td>12/15/14</td>\n      <td>G</td>\n      <td>O</td>\n      <td>Y</td>\n      <td>1</td>\n      <td>7.695000</td>\n      <td>138.071875</td>\n      <td>39.210000</td>\n      <td>3490.000000</td>\n      <td>6.156950</td>\n      <td>3.3</td>\n      <td>25.256250</td>\n      <td>0</td>\n      <td>0.000000</td>\n      <td>893</td>\n    </tr>\n    <tr>\n      <th>14</th>\n      <td>100001</td>\n      <td>12/16/14</td>\n      <td>G</td>\n      <td>O</td>\n      <td>Y</td>\n      <td>1</td>\n      <td>12.052320</td>\n      <td>194.800000</td>\n      <td>39.440000</td>\n      <td>3510.000000</td>\n      <td>7.535480</td>\n      <td>3.3</td>\n      <td>25.353333</td>\n      <td>0</td>\n      <td>0.000000</td>\n      <td>894</td>\n    </tr>\n    <tr>\n      <th>15</th>\n      <td>100001</td>\n      <td>12/17/14</td>\n      <td>G</td>\n      <td>O</td>\n      <td>Y</td>\n      <td>1</td>\n      <td>11.853771</td>\n      <td>139.627143</td>\n      <td>38.850000</td>\n      <td>3458.000000</td>\n      <td>6.725371</td>\n      <td>3.3</td>\n      <td>25.435714</td>\n      <td>0</td>\n      <td>0.000000</td>\n      <td>895</td>\n    </tr>\n    <tr>\n      <th>16</th>\n      <td>100001</td>\n      <td>12/18/14</td>\n      <td>G</td>\n      <td>O</td>\n      <td>Y</td>\n      <td>1</td>\n      <td>21.120000</td>\n      <td>0.000000</td>\n      <td>38.760000</td>\n      <td>3450.000000</td>\n      <td>11.660400</td>\n      <td>3.3</td>\n      <td>154.500000</td>\n      <td>0</td>\n      <td>0.000000</td>\n      <td>896</td>\n    </tr>\n    <tr>\n      <th>17</th>\n      <td>100001</td>\n      <td>12/19/14</td>\n      <td>G</td>\n      <td>O</td>\n      <td>Y</td>\n      <td>1</td>\n      <td>28.080000</td>\n      <td>0.000000</td>\n      <td>39.890000</td>\n      <td>3550.000000</td>\n      <td>9.774700</td>\n      <td>3.3</td>\n      <td>154.600000</td>\n      <td>0</td>\n      <td>0.000000</td>\n      <td>897</td>\n    </tr>\n    <tr>\n      <th>18</th>\n      <td>100001</td>\n      <td>12/20/14</td>\n      <td>G</td>\n      <td>O</td>\n      <td>Y</td>\n      <td>1</td>\n      <td>30.000000</td>\n      <td>0.000000</td>\n      <td>39.340000</td>\n      <td>3501.000000</td>\n      <td>10.428000</td>\n      <td>3.3</td>\n      <td>154.800000</td>\n      <td>0</td>\n      <td>0.000000</td>\n      <td>898</td>\n    </tr>\n    <tr>\n      <th>19</th>\n      <td>100001</td>\n      <td>12/21/14</td>\n      <td>G</td>\n      <td>O</td>\n      <td>Y</td>\n      <td>1</td>\n      <td>18.960000</td>\n      <td>0.000000</td>\n      <td>40.130000</td>\n      <td>3572.000000</td>\n      <td>8.446100</td>\n      <td>3.3</td>\n      <td>155.300000</td>\n      <td>0</td>\n      <td>0.000000</td>\n      <td>899</td>\n    </tr>\n    <tr>\n      <th>20</th>\n      <td>100001</td>\n      <td>12/22/14</td>\n      <td>G</td>\n      <td>O</td>\n      <td>Y</td>\n      <td>1</td>\n      <td>26.880000</td>\n      <td>0.000000</td>\n      <td>38.150000</td>\n      <td>3395.000000</td>\n      <td>10.617600</td>\n      <td>3.3</td>\n      <td>155.000000</td>\n      <td>0</td>\n      <td>0.000000</td>\n      <td>900</td>\n    </tr>\n    <tr>\n      <th>21</th>\n      <td>100001</td>\n      <td>12/23/14</td>\n      <td>G</td>\n      <td>O</td>\n      <td>Y</td>\n      <td>1</td>\n      <td>23.280000</td>\n      <td>0.000000</td>\n      <td>39.600000</td>\n      <td>3524.000000</td>\n      <td>8.058000</td>\n      <td>3.3</td>\n      <td>155.000000</td>\n      <td>0</td>\n      <td>0.000000</td>\n      <td>901</td>\n    </tr>\n    <tr>\n      <th>22</th>\n      <td>100001</td>\n      <td>12/24/14</td>\n      <td>G</td>\n      <td>O</td>\n      <td>Y</td>\n      <td>1</td>\n      <td>19.440000</td>\n      <td>0.000000</td>\n      <td>39.660000</td>\n      <td>3530.000000</td>\n      <td>11.008400</td>\n      <td>3.3</td>\n      <td>155.000000</td>\n      <td>0</td>\n      <td>0.000000</td>\n      <td>902</td>\n    </tr>\n  </tbody>\n</table>\n</div>"
          },
          "metadata": {}
        }
      ],
      "execution_count": 19,
      "metadata": {
        "collapsed": true,
        "jupyter": {
          "source_hidden": false,
          "outputs_hidden": false
        },
        "nteract": {
          "transient": {
            "deleting": false
          }
        },
        "gather": {
          "logged": 1616670146118
        }
      }
    },
    {
      "cell_type": "code",
      "source": [
        "sensor_failure_all.describe()"
      ],
      "outputs": [
        {
          "output_type": "execute_result",
          "execution_count": 35,
          "data": {
            "text/plain": "                  ID  WELL_GROUP        S15         S17        S13  \\\ncount      58.000000   58.000000  58.000000   58.000000  58.000000   \nmean   100002.275862    1.155172  17.544926   44.424152  36.972245   \nstd         4.212734    0.555727   9.715874   73.831695   8.039048   \nmin    100001.000000    1.000000   0.000000    0.000000   0.000000   \n25%    100001.000000    1.000000   9.155542    0.000000  38.842500   \n50%    100001.000000    1.000000  19.560000    0.000000  39.380000   \n75%    100001.000000    1.000000  26.760000  131.968421  39.715000   \nmax    100019.000000    4.000000  30.000000  203.375000  40.820000   \n\n                S5        S16        S19         S18  EQUIPMENT_FAILURE  \\\ncount    58.000000  58.000000  58.000000   58.000000          58.000000   \nmean   3498.340153   8.950112   3.765517  121.267447           0.120690   \nstd     892.552307   1.935337   6.064031   98.466078           0.328611   \nmin       0.000000   3.282400   0.000000    4.400000           0.000000   \n25%    3460.000000   7.429670   3.000000   25.178768           0.000000   \n50%    3509.107143   9.305354   3.000000  154.600000           0.000000   \n75%    3541.500000  10.581200   3.300000  155.250000           0.000000   \nmax    7202.413793  11.660400  42.700000  678.000000           1.000000   \n\n               S8  AGE_OF_EQUIPMENT  \ncount   58.000000         58.000000  \nmean     7.748548       1086.775862  \nstd     37.898310       1194.381012  \nmin      0.000000        832.000000  \n25%      0.000000        893.250000  \n50%      0.000000        907.500000  \n75%      0.000000        921.750000  \nmax    271.170000       9996.000000  ",
            "text/html": "<div>\n<style scoped>\n    .dataframe tbody tr th:only-of-type {\n        vertical-align: middle;\n    }\n\n    .dataframe tbody tr th {\n        vertical-align: top;\n    }\n\n    .dataframe thead th {\n        text-align: right;\n    }\n</style>\n<table border=\"1\" class=\"dataframe\">\n  <thead>\n    <tr style=\"text-align: right;\">\n      <th></th>\n      <th>ID</th>\n      <th>WELL_GROUP</th>\n      <th>S15</th>\n      <th>S17</th>\n      <th>S13</th>\n      <th>S5</th>\n      <th>S16</th>\n      <th>S19</th>\n      <th>S18</th>\n      <th>EQUIPMENT_FAILURE</th>\n      <th>S8</th>\n      <th>AGE_OF_EQUIPMENT</th>\n    </tr>\n  </thead>\n  <tbody>\n    <tr>\n      <th>count</th>\n      <td>58.000000</td>\n      <td>58.000000</td>\n      <td>58.000000</td>\n      <td>58.000000</td>\n      <td>58.000000</td>\n      <td>58.000000</td>\n      <td>58.000000</td>\n      <td>58.000000</td>\n      <td>58.000000</td>\n      <td>58.000000</td>\n      <td>58.000000</td>\n      <td>58.000000</td>\n    </tr>\n    <tr>\n      <th>mean</th>\n      <td>100002.275862</td>\n      <td>1.155172</td>\n      <td>17.544926</td>\n      <td>44.424152</td>\n      <td>36.972245</td>\n      <td>3498.340153</td>\n      <td>8.950112</td>\n      <td>3.765517</td>\n      <td>121.267447</td>\n      <td>0.120690</td>\n      <td>7.748548</td>\n      <td>1086.775862</td>\n    </tr>\n    <tr>\n      <th>std</th>\n      <td>4.212734</td>\n      <td>0.555727</td>\n      <td>9.715874</td>\n      <td>73.831695</td>\n      <td>8.039048</td>\n      <td>892.552307</td>\n      <td>1.935337</td>\n      <td>6.064031</td>\n      <td>98.466078</td>\n      <td>0.328611</td>\n      <td>37.898310</td>\n      <td>1194.381012</td>\n    </tr>\n    <tr>\n      <th>min</th>\n      <td>100001.000000</td>\n      <td>1.000000</td>\n      <td>0.000000</td>\n      <td>0.000000</td>\n      <td>0.000000</td>\n      <td>0.000000</td>\n      <td>3.282400</td>\n      <td>0.000000</td>\n      <td>4.400000</td>\n      <td>0.000000</td>\n      <td>0.000000</td>\n      <td>832.000000</td>\n    </tr>\n    <tr>\n      <th>25%</th>\n      <td>100001.000000</td>\n      <td>1.000000</td>\n      <td>9.155542</td>\n      <td>0.000000</td>\n      <td>38.842500</td>\n      <td>3460.000000</td>\n      <td>7.429670</td>\n      <td>3.000000</td>\n      <td>25.178768</td>\n      <td>0.000000</td>\n      <td>0.000000</td>\n      <td>893.250000</td>\n    </tr>\n    <tr>\n      <th>50%</th>\n      <td>100001.000000</td>\n      <td>1.000000</td>\n      <td>19.560000</td>\n      <td>0.000000</td>\n      <td>39.380000</td>\n      <td>3509.107143</td>\n      <td>9.305354</td>\n      <td>3.000000</td>\n      <td>154.600000</td>\n      <td>0.000000</td>\n      <td>0.000000</td>\n      <td>907.500000</td>\n    </tr>\n    <tr>\n      <th>75%</th>\n      <td>100001.000000</td>\n      <td>1.000000</td>\n      <td>26.760000</td>\n      <td>131.968421</td>\n      <td>39.715000</td>\n      <td>3541.500000</td>\n      <td>10.581200</td>\n      <td>3.300000</td>\n      <td>155.250000</td>\n      <td>0.000000</td>\n      <td>0.000000</td>\n      <td>921.750000</td>\n    </tr>\n    <tr>\n      <th>max</th>\n      <td>100019.000000</td>\n      <td>4.000000</td>\n      <td>30.000000</td>\n      <td>203.375000</td>\n      <td>40.820000</td>\n      <td>7202.413793</td>\n      <td>11.660400</td>\n      <td>42.700000</td>\n      <td>678.000000</td>\n      <td>1.000000</td>\n      <td>271.170000</td>\n      <td>9996.000000</td>\n    </tr>\n  </tbody>\n</table>\n</div>"
          },
          "metadata": {}
        }
      ],
      "execution_count": 35,
      "metadata": {
        "collapsed": true,
        "jupyter": {
          "source_hidden": false,
          "outputs_hidden": false
        },
        "nteract": {
          "transient": {
            "deleting": false
          }
        },
        "gather": {
          "logged": 1616676048193
        }
      }
    },
    {
      "cell_type": "code",
      "source": [
        "#check for null values in df\r\n",
        "sensor_failure_all.isnull().sum().sum()\r\n",
        "sensor_failure_all.isnull().sum()\r\n"
      ],
      "outputs": [
        {
          "output_type": "execute_result",
          "execution_count": 39,
          "data": {
            "text/plain": "ID                    0\nDATE                  0\nREGION_CLUSTER        0\nMAINTENANCE_VENDOR    0\nMANUFACTURER          0\nWELL_GROUP            0\nS15                   0\nS17                   0\nS13                   0\nS5                    0\nS16                   0\nS19                   0\nS18                   0\nEQUIPMENT_FAILURE     0\nS8                    0\nAGE_OF_EQUIPMENT      0\ndtype: int64"
          },
          "metadata": {}
        }
      ],
      "execution_count": 39,
      "metadata": {
        "collapsed": true,
        "jupyter": {
          "source_hidden": false,
          "outputs_hidden": false
        },
        "nteract": {
          "transient": {
            "deleting": false
          }
        },
        "gather": {
          "logged": 1616676145354
        }
      }
    },
    {
      "cell_type": "code",
      "source": [
        "#plot the knn scatter with normal (green) and failure (red)\r\n",
        "\r\n",
        "X_train, X_test, y_train, y_test = train_test_split(Xs, ys, random_state=0)\r\n",
        "X_train.shape\r\n",
        "\r\n",
        "\r\n",
        "colors = {1:'red', 0:'green'}\r\n",
        "\r\n",
        "\r\n",
        "\r\n",
        "plt.title(\"plot the knn scatter with normal (green) and failure (red)\")\r\n",
        "plt.scatter(Xs.iloc[:, 0],Xs.iloc[:, 1], c=ys.map(colors))"
      ],
      "outputs": [
        {
          "output_type": "execute_result",
          "execution_count": 20,
          "data": {
            "text/plain": "<matplotlib.collections.PathCollection at 0x7f5b9bafa6d8>"
          },
          "metadata": {}
        },
        {
          "output_type": "display_data",
          "data": {
            "text/plain": "<Figure size 432x288 with 1 Axes>",
            "image/png": "[encoded data removed]"
          },
          "metadata": {
            "needs_background": "light"
          }
        }
      ],
      "execution_count": 20,
      "metadata": {
        "collapsed": true,
        "jupyter": {
          "source_hidden": false,
          "outputs_hidden": false
        },
        "nteract": {
          "transient": {
            "deleting": false
          }
        },
        "gather": {
          "logged": 1616670190878
        }
      }
    },
    {
      "cell_type": "markdown",
      "source": [
        "## plot the feature specs ans compute decision boundaries"
      ],
      "metadata": {
        "nteract": {
          "transient": {
            "deleting": false
          }
        }
      }
    },
    {
      "cell_type": "code",
      "source": [
        "from matplotlib.colors import ListedColormap\r\n",
        "#from matplotlib.colors import BoundaryNorm\r\n",
        "\r\n",
        "def compute_decision_boundaries(clf, x, y, axes):\r\n",
        "    x1s = np.linspace(axes[0], axes[1], 300)\r\n",
        "    x2s = np.linspace(axes[2], axes[3], 300)\r\n",
        "    x1, x2 = np.meshgrid(x1s, x2s)\r\n",
        "    x_new = np.c_[x1.ravel(), x2.ravel()]\r\n",
        "    y_pred = clf.predict(x_new).reshape(x1.shape)\r\n",
        "    \r\n",
        "    return x1, x2, y_pred\r\n",
        "\r\n",
        "def plot_feature_space(clf, x, y,axes):\r\n",
        "    x1, x2, y_pred = compute_decision_boundaries(clf, x, y, axes)\r\n",
        "    custom_cmap = ListedColormap(['y','b','r'])\r\n",
        "    plt.contourf(x1, x2, y_pred, cmap=custom_cmap, alpha=0.1, linewidth=1)\r\n",
        "    plt.plot(x[:, 0][y==0], x[:, 1][y==0], \"go\", marker='o')\r\n",
        "    plt.plot(x[:, 0][y==1], x[:, 1][y==1], \"ro\", marker='o')\r\n",
        "   # plt.plot(x[:, 0][y==2], x[:, 1][y==2], \"rd\", marker='.')\r\n",
        "    #plt.axis(axes)\r\n",
        "    plt.xlabel(r\"$x_1$\", fontsize=20)\r\n",
        "    plt.ylabel(r\"$x_2$\", fontsize=20, rotation=0)\r\n",
        "   # if file_name is not none:\r\n",
        "   #     plt.savefig(file_name, dpi=300, bbox_inches='tight')\r\n",
        "    plt.figure(figsize=(8, 4))"
      ],
      "outputs": [],
      "execution_count": 17,
      "metadata": {
        "collapsed": true,
        "jupyter": {
          "source_hidden": false,
          "outputs_hidden": false
        },
        "nteract": {
          "transient": {
            "deleting": false
          }
        },
        "gather": {
          "logged": 1616670126648
        }
      }
    },
    {
      "cell_type": "code",
      "source": [
        "from sklearn.tree import DecisionTreeClassifier\r\n",
        "# Instantiate the classifier class for a deeper tree \r\n",
        "tree_clf = DecisionTreeClassifier( random_state=42)\r\n",
        "\r\n",
        "# Grow a Decision Tree\r\n",
        "tree_clf.fit(X_train.values, y_train.values)\r\n",
        "\r\n",
        "plot_feature_space(tree_clf,X_train.values, y_train.values , axes=[-5, 700, 0, 15])"
      ],
      "outputs": [
        {
          "output_type": "stream",
          "name": "stderr",
          "text": [
            "/anaconda/envs/azureml_py36/lib/python3.6/site-packages/ipykernel_launcher.py:16: UserWarning: The following kwargs were not used by contour: 'linewidth'\n",
            "  app.launch_new_instance()\n"
          ]
        },
        {
          "output_type": "display_data",
          "data": {
            "text/plain": "<Figure size 432x288 with 1 Axes>",
            "image/png": "[encoded data removed]"
          },
          "metadata": {
            "needs_background": "light"
          }
        },
        {
          "output_type": "display_data",
          "data": {
            "text/plain": "<Figure size 576x288 with 0 Axes>"
          },
          "metadata": {}
        }
      ],
      "execution_count": 22,
      "metadata": {
        "collapsed": true,
        "jupyter": {
          "source_hidden": false,
          "outputs_hidden": false
        },
        "nteract": {
          "transient": {
            "deleting": false
          }
        },
        "gather": {
          "logged": 1616670219521
        }
      }
    },
    {
      "cell_type": "markdown",
      "source": [
        "## bagging classifier"
      ],
      "metadata": {
        "nteract": {
          "transient": {
            "deleting": false
          }
        }
      }
    },
    {
      "cell_type": "code",
      "source": [
        "from sklearn.ensemble import BaggingClassifier\r\n",
        "\r\n",
        "bag_clf = BaggingClassifier(DecisionTreeClassifier(), n_estimators=150,\r\n",
        "                            bootstrap=True, n_jobs=-1,\r\n",
        "                            oob_score=True, random_state=42)\r\n",
        "\r\n",
        "bag_clf.fit(X_train.values, y_train.values)\r\n",
        "\r\n",
        "plot_feature_space(bag_clf, X_train.values, y_train.values, axes=[-5, 700, 0, 15])"
      ],
      "outputs": [
        {
          "output_type": "stream",
          "name": "stderr",
          "text": [
            "/anaconda/envs/azureml_py36/lib/python3.6/site-packages/ipykernel_launcher.py:16: UserWarning: The following kwargs were not used by contour: 'linewidth'\n",
            "  app.launch_new_instance()\n"
          ]
        },
        {
          "output_type": "display_data",
          "data": {
            "text/plain": "<Figure size 432x288 with 1 Axes>",
            "image/png": "[encoded data removed]"
          },
          "metadata": {
            "needs_background": "light"
          }
        },
        {
          "output_type": "display_data",
          "data": {
            "text/plain": "<Figure size 576x288 with 0 Axes>"
          },
          "metadata": {}
        }
      ],
      "execution_count": 33,
      "metadata": {
        "collapsed": true,
        "jupyter": {
          "source_hidden": false,
          "outputs_hidden": false
        },
        "nteract": {
          "transient": {
            "deleting": false
          }
        },
        "gather": {
          "logged": 1616671673984
        }
      }
    },
    {
      "cell_type": "code",
      "source": [
        "print('Out-of-bag evaluation score: {}%'.format(round(bag_clf.oob_score_, 4) * 100))"
      ],
      "outputs": [
        {
          "output_type": "stream",
          "name": "stdout",
          "text": [
            "Out-of-bag evaluation score: 95.35%\n"
          ]
        }
      ],
      "execution_count": 41,
      "metadata": {
        "collapsed": true,
        "jupyter": {
          "source_hidden": false,
          "outputs_hidden": false
        },
        "nteract": {
          "transient": {
            "deleting": false
          }
        },
        "gather": {
          "logged": 1616676282493
        }
      }
    },
    {
      "cell_type": "markdown",
      "source": [
        "## random forest classifier"
      ],
      "metadata": {
        "nteract": {
          "transient": {
            "deleting": false
          }
        }
      }
    },
    {
      "cell_type": "code",
      "source": [
        "from sklearn.ensemble import RandomForestClassifier\r\n",
        "\r\n",
        "rf_clf = RandomForestClassifier(n_estimators=250, max_leaf_nodes=10, n_jobs=-1,\r\n",
        "                                bootstrap=True, oob_score=True, random_state=42)\r\n",
        "\r\n",
        "\r\n",
        "\r\n",
        "rf_clf.fit(X_train.values, y_train.values)\r\n",
        "\r\n",
        "plot_feature_space(rf_clf, X_train.values, y_train.values, axes=[-5, 700, 0, 15])\r\n"
      ],
      "outputs": [
        {
          "output_type": "stream",
          "name": "stderr",
          "text": [
            "/anaconda/envs/azureml_py36/lib/python3.6/site-packages/ipykernel_launcher.py:16: UserWarning: The following kwargs were not used by contour: 'linewidth'\n",
            "  app.launch_new_instance()\n"
          ]
        },
        {
          "output_type": "display_data",
          "data": {
            "text/plain": "<Figure size 432x288 with 1 Axes>",
            "image/png": "[encoded data removed]"
          },
          "metadata": {
            "needs_background": "light"
          }
        },
        {
          "output_type": "display_data",
          "data": {
            "text/plain": "<Figure size 576x288 with 0 Axes>"
          },
          "metadata": {}
        }
      ],
      "execution_count": 31,
      "metadata": {
        "collapsed": true,
        "jupyter": {
          "source_hidden": false,
          "outputs_hidden": false
        },
        "nteract": {
          "transient": {
            "deleting": false
          }
        },
        "gather": {
          "logged": 1616671652772
        }
      }
    },
    {
      "cell_type": "code",
      "source": [
        "#The model will not have seen the out-of-bag instances at all during training and so they can actually be used as a test set, in a procedure known as Out-of-bag Evaluation.\r\n",
        "print('Out-of-bag evaluation score: {}%'.format(round(rf_clf.oob_score_, 4) * 100))"
      ],
      "outputs": [
        {
          "output_type": "stream",
          "name": "stdout",
          "text": [
            "Out-of-bag evaluation score: 88.37%\n"
          ]
        }
      ],
      "execution_count": 44,
      "metadata": {
        "collapsed": true,
        "jupyter": {
          "source_hidden": false,
          "outputs_hidden": false
        },
        "nteract": {
          "transient": {
            "deleting": false
          }
        },
        "gather": {
          "logged": 1616676340697
        }
      }
    },
    {
      "cell_type": "code",
      "source": [],
      "outputs": [],
      "execution_count": null,
      "metadata": {
        "collapsed": true,
        "jupyter": {
          "source_hidden": false,
          "outputs_hidden": false
        },
        "nteract": {
          "transient": {
            "deleting": false
          }
        }
      }
    }
  ],
  "metadata": {
    "kernelspec": {
      "name": "python3-azureml",
      "language": "python",
      "display_name": "Python 3.6 - AzureML"
    },
    "language_info": {
      "name": "python",
      "version": "3.6.9",
      "mimetype": "text/x-python",
      "codemirror_mode": {
        "name": "ipython",
        "version": 3
      },
      "pygments_lexer": "ipython3",
      "nbconvert_exporter": "python",
      "file_extension": ".py"
    },
    "kernel_info": {
      "name": "python3-azureml"
    },
    "microsoft": {
      "host": {
        "AzureML": {
          "notebookHasBeenCompleted": true
        }
      }
    },
    "nteract": {
      "version": "nteract-front-end@1.0.0"
    }
  },
  "nbformat": 4,
  "nbformat_minor": 2
}