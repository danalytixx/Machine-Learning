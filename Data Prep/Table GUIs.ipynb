{
 "cells": [
  {
   "cell_type": "code",
   "execution_count": 26,
   "id": "bc7407b6",
   "metadata": {},
   "outputs": [],
   "source": [
    "# https://pbpython.com/dataframe-gui-overview.html\n",
    "\n",
    "#https://towardsdatascience.com/jupyter-notebook-without-code-the-mito-way-3e3b3415d44"
   ]
  },
  {
   "cell_type": "code",
   "execution_count": 7,
   "id": "88af3fc6",
   "metadata": {},
   "outputs": [
    {
     "name": "stdout",
     "output_type": "stream",
     "text": [
      "Exception on /dtale/charts/1 [GET]\n",
      "Traceback (most recent call last):\n",
      "  File \"C:\\Users\\hotaha\\Anaconda3\\lib\\site-packages\\flask\\app.py\", line 2447, in wsgi_app\n",
      "    response = self.full_dispatch_request()\n",
      "  File \"C:\\Users\\hotaha\\Anaconda3\\lib\\site-packages\\flask\\app.py\", line 1952, in full_dispatch_request\n",
      "    rv = self.handle_user_exception(e)\n",
      "  File \"C:\\Users\\hotaha\\Anaconda3\\lib\\site-packages\\flask\\app.py\", line 1821, in handle_user_exception\n",
      "    reraise(exc_type, exc_value, tb)\n",
      "  File \"C:\\Users\\hotaha\\Anaconda3\\lib\\site-packages\\flask\\_compat.py\", line 39, in reraise\n",
      "    raise value\n",
      "  File \"C:\\Users\\hotaha\\Anaconda3\\lib\\site-packages\\flask\\app.py\", line 1950, in full_dispatch_request\n",
      "    rv = self.dispatch_request()\n",
      "  File \"C:\\Users\\hotaha\\Anaconda3\\lib\\site-packages\\flask\\app.py\", line 1936, in dispatch_request\n",
      "    return self.view_functions[rule.endpoint](**req.view_args)\n",
      "  File \"C:\\Users\\hotaha\\Anaconda3\\lib\\site-packages\\dash\\dash.py\", line 952, in index\n",
      "    config = self._generate_config_html()\n",
      "  File \"C:\\Users\\hotaha\\Anaconda3\\lib\\site-packages\\dash\\dash.py\", line 843, in _generate_config_html\n",
      "    return f'<script id=\"_dash-config\" type=\"application/json\">{to_json(self._config())}</script>'\n",
      "  File \"C:\\Users\\hotaha\\Anaconda3\\lib\\site-packages\\dash\\_utils.py\", line 20, in to_json\n",
      "    from plotly.io.json import to_json_plotly\n",
      "ModuleNotFoundError: No module named 'plotly.io.json'\n"
     ]
    },
    {
     "name": "stderr",
     "output_type": "stream",
     "text": [
      "2022-11-25 17:41:02,878 - ERROR    - Exception on /dtale/charts/1 [GET]\n",
      "Traceback (most recent call last):\n",
      "  File \"C:\\Users\\hotaha\\Anaconda3\\lib\\site-packages\\flask\\app.py\", line 2447, in wsgi_app\n",
      "    response = self.full_dispatch_request()\n",
      "  File \"C:\\Users\\hotaha\\Anaconda3\\lib\\site-packages\\flask\\app.py\", line 1952, in full_dispatch_request\n",
      "    rv = self.handle_user_exception(e)\n",
      "  File \"C:\\Users\\hotaha\\Anaconda3\\lib\\site-packages\\flask\\app.py\", line 1821, in handle_user_exception\n",
      "    reraise(exc_type, exc_value, tb)\n",
      "  File \"C:\\Users\\hotaha\\Anaconda3\\lib\\site-packages\\flask\\_compat.py\", line 39, in reraise\n",
      "    raise value\n",
      "  File \"C:\\Users\\hotaha\\Anaconda3\\lib\\site-packages\\flask\\app.py\", line 1950, in full_dispatch_request\n",
      "    rv = self.dispatch_request()\n",
      "  File \"C:\\Users\\hotaha\\Anaconda3\\lib\\site-packages\\flask\\app.py\", line 1936, in dispatch_request\n",
      "    return self.view_functions[rule.endpoint](**req.view_args)\n",
      "  File \"C:\\Users\\hotaha\\Anaconda3\\lib\\site-packages\\dash\\dash.py\", line 952, in index\n",
      "    config = self._generate_config_html()\n",
      "  File \"C:\\Users\\hotaha\\Anaconda3\\lib\\site-packages\\dash\\dash.py\", line 843, in _generate_config_html\n",
      "    return f'<script id=\"_dash-config\" type=\"application/json\">{to_json(self._config())}</script>'\n",
      "  File \"C:\\Users\\hotaha\\Anaconda3\\lib\\site-packages\\dash\\_utils.py\", line 20, in to_json\n",
      "    from plotly.io.json import to_json_plotly\n",
      "ModuleNotFoundError: No module named 'plotly.io.json'\n"
     ]
    }
   ],
   "source": [
    "import pandas as pd \n",
    "\n"
   ]
  },
  {
   "cell_type": "markdown",
   "id": "7ec45854",
   "metadata": {},
   "source": [
    "## Data prep with GUIs"
   ]
  },
  {
   "cell_type": "code",
   "execution_count": 6,
   "id": "45bad920",
   "metadata": {},
   "outputs": [
    {
     "data": {
      "text/html": [
       "<div>\n",
       "<style scoped>\n",
       "    .dataframe tbody tr th:only-of-type {\n",
       "        vertical-align: middle;\n",
       "    }\n",
       "\n",
       "    .dataframe tbody tr th {\n",
       "        vertical-align: top;\n",
       "    }\n",
       "\n",
       "    .dataframe thead th {\n",
       "        text-align: right;\n",
       "    }\n",
       "</style>\n",
       "<table border=\"1\" class=\"dataframe\">\n",
       "  <thead>\n",
       "    <tr style=\"text-align: right;\">\n",
       "      <th></th>\n",
       "      <th>Unnamed: 0</th>\n",
       "      <th>VARIABLE</th>\n",
       "      <th>CALCULATION</th>\n",
       "      <th>TIMESTAMP_S</th>\n",
       "      <th>TIMESTAMP_MS</th>\n",
       "      <th>VALUE</th>\n",
       "      <th>STATUS</th>\n",
       "      <th>GUID</th>\n",
       "      <th>STRVALUE</th>\n",
       "    </tr>\n",
       "  </thead>\n",
       "  <tbody>\n",
       "    <tr>\n",
       "      <th>0</th>\n",
       "      <td>0</td>\n",
       "      <td>12695</td>\n",
       "      <td>0</td>\n",
       "      <td>1665555300</td>\n",
       "      <td>0</td>\n",
       "      <td>0.000</td>\n",
       "      <td>262144</td>\n",
       "      <td>NaN</td>\n",
       "      <td>NaN</td>\n",
       "    </tr>\n",
       "    <tr>\n",
       "      <th>1</th>\n",
       "      <td>1</td>\n",
       "      <td>12695</td>\n",
       "      <td>0</td>\n",
       "      <td>1665570600</td>\n",
       "      <td>0</td>\n",
       "      <td>0.000</td>\n",
       "      <td>262144</td>\n",
       "      <td>NaN</td>\n",
       "      <td>NaN</td>\n",
       "    </tr>\n",
       "    <tr>\n",
       "      <th>2</th>\n",
       "      <td>2</td>\n",
       "      <td>12695</td>\n",
       "      <td>0</td>\n",
       "      <td>1665584100</td>\n",
       "      <td>0</td>\n",
       "      <td>0.000</td>\n",
       "      <td>0</td>\n",
       "      <td>NaN</td>\n",
       "      <td>NaN</td>\n",
       "    </tr>\n",
       "    <tr>\n",
       "      <th>3</th>\n",
       "      <td>3</td>\n",
       "      <td>12695</td>\n",
       "      <td>0</td>\n",
       "      <td>1665599400</td>\n",
       "      <td>0</td>\n",
       "      <td>0.000</td>\n",
       "      <td>0</td>\n",
       "      <td>NaN</td>\n",
       "      <td>NaN</td>\n",
       "    </tr>\n",
       "    <tr>\n",
       "      <th>4</th>\n",
       "      <td>4</td>\n",
       "      <td>12695</td>\n",
       "      <td>0</td>\n",
       "      <td>1665612900</td>\n",
       "      <td>0</td>\n",
       "      <td>0.000</td>\n",
       "      <td>0</td>\n",
       "      <td>NaN</td>\n",
       "      <td>NaN</td>\n",
       "    </tr>\n",
       "    <tr>\n",
       "      <th>...</th>\n",
       "      <td>...</td>\n",
       "      <td>...</td>\n",
       "      <td>...</td>\n",
       "      <td>...</td>\n",
       "      <td>...</td>\n",
       "      <td>...</td>\n",
       "      <td>...</td>\n",
       "      <td>...</td>\n",
       "      <td>...</td>\n",
       "    </tr>\n",
       "    <tr>\n",
       "      <th>995</th>\n",
       "      <td>995</td>\n",
       "      <td>12695</td>\n",
       "      <td>0</td>\n",
       "      <td>1666003241</td>\n",
       "      <td>1666003241045</td>\n",
       "      <td>7.047</td>\n",
       "      <td>0</td>\n",
       "      <td></td>\n",
       "      <td>0.0</td>\n",
       "    </tr>\n",
       "    <tr>\n",
       "      <th>996</th>\n",
       "      <td>996</td>\n",
       "      <td>12695</td>\n",
       "      <td>0</td>\n",
       "      <td>1666003241</td>\n",
       "      <td>1666003241248</td>\n",
       "      <td>6.783</td>\n",
       "      <td>0</td>\n",
       "      <td></td>\n",
       "      <td>0.0</td>\n",
       "    </tr>\n",
       "    <tr>\n",
       "      <th>997</th>\n",
       "      <td>997</td>\n",
       "      <td>12695</td>\n",
       "      <td>0</td>\n",
       "      <td>1666003241</td>\n",
       "      <td>1666003241092</td>\n",
       "      <td>6.704</td>\n",
       "      <td>0</td>\n",
       "      <td></td>\n",
       "      <td>0.0</td>\n",
       "    </tr>\n",
       "    <tr>\n",
       "      <th>998</th>\n",
       "      <td>998</td>\n",
       "      <td>12695</td>\n",
       "      <td>0</td>\n",
       "      <td>1666003241</td>\n",
       "      <td>1666003241155</td>\n",
       "      <td>6.308</td>\n",
       "      <td>0</td>\n",
       "      <td></td>\n",
       "      <td>0.0</td>\n",
       "    </tr>\n",
       "    <tr>\n",
       "      <th>999</th>\n",
       "      <td>999</td>\n",
       "      <td>12695</td>\n",
       "      <td>0</td>\n",
       "      <td>1666003241</td>\n",
       "      <td>1666003241061</td>\n",
       "      <td>7.047</td>\n",
       "      <td>0</td>\n",
       "      <td></td>\n",
       "      <td>0.0</td>\n",
       "    </tr>\n",
       "  </tbody>\n",
       "</table>\n",
       "<p>1000 rows × 9 columns</p>\n",
       "</div>"
      ],
      "text/plain": [
       "     Unnamed: 0  VARIABLE  CALCULATION  TIMESTAMP_S   TIMESTAMP_MS  VALUE  \\\n",
       "0             0     12695            0   1665555300              0  0.000   \n",
       "1             1     12695            0   1665570600              0  0.000   \n",
       "2             2     12695            0   1665584100              0  0.000   \n",
       "3             3     12695            0   1665599400              0  0.000   \n",
       "4             4     12695            0   1665612900              0  0.000   \n",
       "..          ...       ...          ...          ...            ...    ...   \n",
       "995         995     12695            0   1666003241  1666003241045  7.047   \n",
       "996         996     12695            0   1666003241  1666003241248  6.783   \n",
       "997         997     12695            0   1666003241  1666003241092  6.704   \n",
       "998         998     12695            0   1666003241  1666003241155  6.308   \n",
       "999         999     12695            0   1666003241  1666003241061  7.047   \n",
       "\n",
       "     STATUS GUID  STRVALUE  \n",
       "0    262144  NaN       NaN  \n",
       "1    262144  NaN       NaN  \n",
       "2         0  NaN       NaN  \n",
       "3         0  NaN       NaN  \n",
       "4         0  NaN       NaN  \n",
       "..      ...  ...       ...  \n",
       "995       0            0.0  \n",
       "996       0            0.0  \n",
       "997       0            0.0  \n",
       "998       0            0.0  \n",
       "999       0            0.0  \n",
       "\n",
       "[1000 rows x 9 columns]"
      ]
     },
     "execution_count": 6,
     "metadata": {},
     "output_type": "execute_result"
    }
   ],
   "source": [
    "data_location = \"C:/Users/hotaha/OneDrive - dormakaba Group/Desktop/Python/Data/\"\n",
    "#df = pd.read_excel(data_location + \"sensordata_ED250_GE10_25-271022.xlsx\")\n",
    "#X, y = df.iloc[:, :-2], df.iloc[:, -1]\n",
    "df = pd.read_csv(data_location + \"export_ED250_GE10 81122 - 4 wochen.csv\")\n",
    "X, y = df.iloc[:, 3:-5], df.iloc[:, 5:-3]\n",
    "df=df[:1000]\n",
    "df"
   ]
  },
  {
   "cell_type": "code",
   "execution_count": 3,
   "id": "c3b5a038",
   "metadata": {
    "scrolled": true
   },
   "outputs": [
    {
     "name": "stderr",
     "output_type": "stream",
     "text": [
      "C:\\Users\\hotaha\\Anaconda3\\lib\\site-packages\\dtale\\views.py:746: FutureWarning:\n",
      "\n",
      "['GUID'] did not aggregate successfully. If any error is raised this will raise in a future version of pandas. Drop these columns/ops to avoid this warning.\n",
      "\n"
     ]
    },
    {
     "data": {
      "text/html": [
       "\n",
       "        <iframe\n",
       "            width=\"100%\"\n",
       "            height=\"475\"\n",
       "            src=\"http://DENB0007450:40001/dtale/iframe/1\"\n",
       "            frameborder=\"0\"\n",
       "            allowfullscreen\n",
       "        ></iframe>\n",
       "        "
      ],
      "text/plain": [
       "<IPython.lib.display.IFrame at 0x2476be56700>"
      ]
     },
     "metadata": {},
     "output_type": "display_data"
    },
    {
     "data": {
      "text/plain": []
     },
     "execution_count": 3,
     "metadata": {},
     "output_type": "execute_result"
    }
   ],
   "source": [
    "import dtale\n",
    "\n",
    "dtale.show(df)"
   ]
  },
  {
   "cell_type": "code",
   "execution_count": 8,
   "id": "4658e833",
   "metadata": {},
   "outputs": [
    {
     "name": "stderr",
     "output_type": "stream",
     "text": [
      "C:\\Users\\hotaha\\Anaconda3\\lib\\site-packages\\tabloo\\backend.py:115: SettingWithCopyWarning:\n",
      "\n",
      "\n",
      "A value is trying to be set on a copy of a slice from a DataFrame\n",
      "\n",
      "See the caveats in the documentation: https://pandas.pydata.org/pandas-docs/stable/user_guide/indexing.html#returning-a-view-versus-a-copy\n",
      "\n",
      "C:\\Users\\hotaha\\Anaconda3\\lib\\site-packages\\tabloo\\backend.py:117: SettingWithCopyWarning:\n",
      "\n",
      "\n",
      "A value is trying to be set on a copy of a slice from a DataFrame\n",
      "\n",
      "See the caveats in the documentation: https://pandas.pydata.org/pandas-docs/stable/user_guide/indexing.html#returning-a-view-versus-a-copy\n",
      "\n",
      "C:\\Users\\hotaha\\Anaconda3\\lib\\site-packages\\tabloo\\backend.py:115: SettingWithCopyWarning:\n",
      "\n",
      "\n",
      "A value is trying to be set on a copy of a slice from a DataFrame\n",
      "\n",
      "See the caveats in the documentation: https://pandas.pydata.org/pandas-docs/stable/user_guide/indexing.html#returning-a-view-versus-a-copy\n",
      "\n",
      "C:\\Users\\hotaha\\Anaconda3\\lib\\site-packages\\tabloo\\backend.py:117: SettingWithCopyWarning:\n",
      "\n",
      "\n",
      "A value is trying to be set on a copy of a slice from a DataFrame\n",
      "\n",
      "See the caveats in the documentation: https://pandas.pydata.org/pandas-docs/stable/user_guide/indexing.html#returning-a-view-versus-a-copy\n",
      "\n",
      "C:\\Users\\hotaha\\Anaconda3\\lib\\site-packages\\tabloo\\backend.py:115: SettingWithCopyWarning:\n",
      "\n",
      "\n",
      "A value is trying to be set on a copy of a slice from a DataFrame\n",
      "\n",
      "See the caveats in the documentation: https://pandas.pydata.org/pandas-docs/stable/user_guide/indexing.html#returning-a-view-versus-a-copy\n",
      "\n",
      "C:\\Users\\hotaha\\Anaconda3\\lib\\site-packages\\tabloo\\backend.py:117: SettingWithCopyWarning:\n",
      "\n",
      "\n",
      "A value is trying to be set on a copy of a slice from a DataFrame\n",
      "\n",
      "See the caveats in the documentation: https://pandas.pydata.org/pandas-docs/stable/user_guide/indexing.html#returning-a-view-versus-a-copy\n",
      "\n",
      "C:\\Users\\hotaha\\Anaconda3\\lib\\site-packages\\tabloo\\backend.py:117: SettingWithCopyWarning:\n",
      "\n",
      "\n",
      "A value is trying to be set on a copy of a slice from a DataFrame\n",
      "\n",
      "See the caveats in the documentation: https://pandas.pydata.org/pandas-docs/stable/user_guide/indexing.html#returning-a-view-versus-a-copy\n",
      "\n"
     ]
    }
   ],
   "source": [
    "import tabloo\n",
    "\n",
    "tabloo.show(df)"
   ]
  },
  {
   "cell_type": "code",
   "execution_count": 5,
   "id": "1507248c",
   "metadata": {},
   "outputs": [
    {
     "data": {
      "text/html": [
       "\n",
       "        <iframe\n",
       "            width=\"100%\"\n",
       "            height=\"500\"\n",
       "            src=\"pivottablejs.html\"\n",
       "            frameborder=\"0\"\n",
       "            allowfullscreen\n",
       "        ></iframe>\n",
       "        "
      ],
      "text/plain": [
       "<IPython.lib.display.IFrame at 0x2476eec5340>"
      ]
     },
     "execution_count": 5,
     "metadata": {},
     "output_type": "execute_result"
    }
   ],
   "source": [
    "from pivottablejs import pivot_ui\n",
    "\n",
    "pivot_ui(df)"
   ]
  },
  {
   "cell_type": "code",
   "execution_count": null,
   "id": "42954eef",
   "metadata": {},
   "outputs": [],
   "source": []
  },
  {
   "cell_type": "code",
   "execution_count": 4,
   "id": "feb438ce",
   "metadata": {},
   "outputs": [
    {
     "data": {
      "application/vnd.jupyter.widget-view+json": {
       "model_id": "4c7a44adec684063b7d8cf11e67d6b72",
       "version_major": 2,
       "version_minor": 0
      },
      "text/plain": [
       "QgridWidget(grid_options={'fullWidthRows': True, 'syncColumnCellResize': True, 'forceFitColumns': True, 'defau…"
      ]
     },
     "metadata": {},
     "output_type": "display_data"
    }
   ],
   "source": [
    "import qgrid\n",
    "widget = qgrid.show_grid(df,show_toolbar = True)\n",
    "widget"
   ]
  },
  {
   "cell_type": "markdown",
   "id": "0f4a474f",
   "metadata": {},
   "source": [
    "## Mito for jupyterlab"
   ]
  },
  {
   "cell_type": "code",
   "execution_count": 9,
   "id": "a34aff6c",
   "metadata": {},
   "outputs": [
    {
     "data": {
      "application/vnd.jupyter.widget-view+json": {
       "model_id": "3d0ceb3c44f440b089468dea6f4d64e9",
       "version_major": 2,
       "version_minor": 0
      },
      "text/plain": [
       "MitoWidget(analysis_name='UUID-44717840-7d6b-4b24-ab06-d8f71d819d57', code_json='{\"imports\": \"from mitosheet i…"
      ]
     },
     "metadata": {},
     "output_type": "display_data"
    }
   ],
   "source": [
    "import mitosheet\n",
    "from mitosheet import *\n",
    "mitosheet.sheet()"
   ]
  },
  {
   "cell_type": "code",
   "execution_count": null,
   "id": "3f3a3a30",
   "metadata": {},
   "outputs": [],
   "source": []
  }
 ],
 "metadata": {
  "kernelspec": {
   "display_name": "Python 3",
   "language": "python",
   "name": "python3"
  },
  "language_info": {
   "codemirror_mode": {
    "name": "ipython",
    "version": 3
   },
   "file_extension": ".py",
   "mimetype": "text/x-python",
   "name": "python",
   "nbconvert_exporter": "python",
   "pygments_lexer": "ipython3",
   "version": "3.8.8"
  }
 },
 "nbformat": 4,
 "nbformat_minor": 5
}
